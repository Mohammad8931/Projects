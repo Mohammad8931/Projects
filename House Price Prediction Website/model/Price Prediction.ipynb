{
 "cells": [
  {
   "cell_type": "code",
   "execution_count": 667,
   "id": "initial_id",
   "metadata": {
    "ExecuteTime": {
     "end_time": "2024-02-18T20:05:25.395451400Z",
     "start_time": "2024-02-18T20:05:22.112668500Z"
    }
   },
   "outputs": [],
   "source": [
    "import pandas as pd\n",
    "import numpy as np\n",
    "from matplotlib import pyplot as plt\n",
    "%matplotlib inline\n",
    "import matplotlib\n",
    "matplotlib.rcParams[\"figure.figsize\"] = (20,10)"
   ]
  },
  {
   "cell_type": "markdown",
   "id": "da53b5f674cbeb5f",
   "metadata": {
    "collapsed": false
   },
   "source": []
  },
  {
   "cell_type": "code",
   "execution_count": 668,
   "id": "f3cd3ae2017a4a16",
   "metadata": {
    "ExecuteTime": {
     "end_time": "2024-02-18T20:05:25.652256800Z",
     "start_time": "2024-02-18T20:05:25.387452400Z"
    },
    "collapsed": false
   },
   "outputs": [
    {
     "data": {
      "text/html": [
       "<div>\n",
       "<style scoped>\n",
       "    .dataframe tbody tr th:only-of-type {\n",
       "        vertical-align: middle;\n",
       "    }\n",
       "\n",
       "    .dataframe tbody tr th {\n",
       "        vertical-align: top;\n",
       "    }\n",
       "\n",
       "    .dataframe thead th {\n",
       "        text-align: right;\n",
       "    }\n",
       "</style>\n",
       "<table border=\"1\" class=\"dataframe\">\n",
       "  <thead>\n",
       "    <tr style=\"text-align: right;\">\n",
       "      <th></th>\n",
       "      <th>area_type</th>\n",
       "      <th>availability</th>\n",
       "      <th>location</th>\n",
       "      <th>size</th>\n",
       "      <th>society</th>\n",
       "      <th>total_sqft</th>\n",
       "      <th>bath</th>\n",
       "      <th>balcony</th>\n",
       "      <th>price</th>\n",
       "    </tr>\n",
       "  </thead>\n",
       "  <tbody>\n",
       "    <tr>\n",
       "      <th>0</th>\n",
       "      <td>Super built-up  Area</td>\n",
       "      <td>19-Dec</td>\n",
       "      <td>Electronic City Phase II</td>\n",
       "      <td>2 BHK</td>\n",
       "      <td>Coomee</td>\n",
       "      <td>1056</td>\n",
       "      <td>2.0</td>\n",
       "      <td>1.0</td>\n",
       "      <td>39.07</td>\n",
       "    </tr>\n",
       "    <tr>\n",
       "      <th>1</th>\n",
       "      <td>Plot  Area</td>\n",
       "      <td>Ready To Move</td>\n",
       "      <td>Chikka Tirupathi</td>\n",
       "      <td>4 Bedroom</td>\n",
       "      <td>Theanmp</td>\n",
       "      <td>2600</td>\n",
       "      <td>5.0</td>\n",
       "      <td>3.0</td>\n",
       "      <td>120.00</td>\n",
       "    </tr>\n",
       "    <tr>\n",
       "      <th>2</th>\n",
       "      <td>Built-up  Area</td>\n",
       "      <td>Ready To Move</td>\n",
       "      <td>Uttarahalli</td>\n",
       "      <td>3 BHK</td>\n",
       "      <td>NaN</td>\n",
       "      <td>1440</td>\n",
       "      <td>2.0</td>\n",
       "      <td>3.0</td>\n",
       "      <td>62.00</td>\n",
       "    </tr>\n",
       "    <tr>\n",
       "      <th>3</th>\n",
       "      <td>Super built-up  Area</td>\n",
       "      <td>Ready To Move</td>\n",
       "      <td>Lingadheeranahalli</td>\n",
       "      <td>3 BHK</td>\n",
       "      <td>Soiewre</td>\n",
       "      <td>1521</td>\n",
       "      <td>3.0</td>\n",
       "      <td>1.0</td>\n",
       "      <td>95.00</td>\n",
       "    </tr>\n",
       "    <tr>\n",
       "      <th>4</th>\n",
       "      <td>Super built-up  Area</td>\n",
       "      <td>Ready To Move</td>\n",
       "      <td>Kothanur</td>\n",
       "      <td>2 BHK</td>\n",
       "      <td>NaN</td>\n",
       "      <td>1200</td>\n",
       "      <td>2.0</td>\n",
       "      <td>1.0</td>\n",
       "      <td>51.00</td>\n",
       "    </tr>\n",
       "  </tbody>\n",
       "</table>\n",
       "</div>"
      ],
      "text/plain": [
       "              area_type   availability                  location       size  \\\n",
       "0  Super built-up  Area         19-Dec  Electronic City Phase II      2 BHK   \n",
       "1            Plot  Area  Ready To Move          Chikka Tirupathi  4 Bedroom   \n",
       "2        Built-up  Area  Ready To Move               Uttarahalli      3 BHK   \n",
       "3  Super built-up  Area  Ready To Move        Lingadheeranahalli      3 BHK   \n",
       "4  Super built-up  Area  Ready To Move                  Kothanur      2 BHK   \n",
       "\n",
       "   society total_sqft  bath  balcony   price  \n",
       "0  Coomee        1056   2.0      1.0   39.07  \n",
       "1  Theanmp       2600   5.0      3.0  120.00  \n",
       "2      NaN       1440   2.0      3.0   62.00  \n",
       "3  Soiewre       1521   3.0      1.0   95.00  \n",
       "4      NaN       1200   2.0      1.0   51.00  "
      ]
     },
     "execution_count": 668,
     "metadata": {},
     "output_type": "execute_result"
    }
   ],
   "source": [
    "df1 = pd.read_csv(\"Bengaluru_House_Data.csv\")\n",
    "df1.head()"
   ]
  },
  {
   "cell_type": "code",
   "execution_count": 669,
   "id": "d3beafdfe0dc04eb",
   "metadata": {
    "ExecuteTime": {
     "end_time": "2024-02-18T20:05:25.683277600Z",
     "start_time": "2024-02-18T20:05:25.506712800Z"
    },
    "collapsed": false
   },
   "outputs": [
    {
     "name": "stdout",
     "output_type": "stream",
     "text": [
      "(13320, 9)\n"
     ]
    }
   ],
   "source": [
    "print(df1.shape)"
   ]
  },
  {
   "cell_type": "code",
   "execution_count": 670,
   "id": "2b4b4afdef9f4d7e",
   "metadata": {
    "ExecuteTime": {
     "end_time": "2024-02-18T20:05:25.809055700Z",
     "start_time": "2024-02-18T20:05:25.524713300Z"
    },
    "collapsed": false
   },
   "outputs": [],
   "source": [
    "df2 = df1.drop(['area_type','society','balcony','availability'],axis = 'columns')"
   ]
  },
  {
   "cell_type": "code",
   "execution_count": 671,
   "id": "efa4222dea25d2c6",
   "metadata": {
    "ExecuteTime": {
     "end_time": "2024-02-18T20:05:25.875454800Z",
     "start_time": "2024-02-18T20:05:25.544978500Z"
    },
    "collapsed": false
   },
   "outputs": [
    {
     "data": {
      "text/html": [
       "<div>\n",
       "<style scoped>\n",
       "    .dataframe tbody tr th:only-of-type {\n",
       "        vertical-align: middle;\n",
       "    }\n",
       "\n",
       "    .dataframe tbody tr th {\n",
       "        vertical-align: top;\n",
       "    }\n",
       "\n",
       "    .dataframe thead th {\n",
       "        text-align: right;\n",
       "    }\n",
       "</style>\n",
       "<table border=\"1\" class=\"dataframe\">\n",
       "  <thead>\n",
       "    <tr style=\"text-align: right;\">\n",
       "      <th></th>\n",
       "      <th>location</th>\n",
       "      <th>size</th>\n",
       "      <th>total_sqft</th>\n",
       "      <th>bath</th>\n",
       "      <th>price</th>\n",
       "    </tr>\n",
       "  </thead>\n",
       "  <tbody>\n",
       "    <tr>\n",
       "      <th>0</th>\n",
       "      <td>Electronic City Phase II</td>\n",
       "      <td>2 BHK</td>\n",
       "      <td>1056</td>\n",
       "      <td>2.0</td>\n",
       "      <td>39.07</td>\n",
       "    </tr>\n",
       "    <tr>\n",
       "      <th>1</th>\n",
       "      <td>Chikka Tirupathi</td>\n",
       "      <td>4 Bedroom</td>\n",
       "      <td>2600</td>\n",
       "      <td>5.0</td>\n",
       "      <td>120.00</td>\n",
       "    </tr>\n",
       "    <tr>\n",
       "      <th>2</th>\n",
       "      <td>Uttarahalli</td>\n",
       "      <td>3 BHK</td>\n",
       "      <td>1440</td>\n",
       "      <td>2.0</td>\n",
       "      <td>62.00</td>\n",
       "    </tr>\n",
       "    <tr>\n",
       "      <th>3</th>\n",
       "      <td>Lingadheeranahalli</td>\n",
       "      <td>3 BHK</td>\n",
       "      <td>1521</td>\n",
       "      <td>3.0</td>\n",
       "      <td>95.00</td>\n",
       "    </tr>\n",
       "    <tr>\n",
       "      <th>4</th>\n",
       "      <td>Kothanur</td>\n",
       "      <td>2 BHK</td>\n",
       "      <td>1200</td>\n",
       "      <td>2.0</td>\n",
       "      <td>51.00</td>\n",
       "    </tr>\n",
       "  </tbody>\n",
       "</table>\n",
       "</div>"
      ],
      "text/plain": [
       "                   location       size total_sqft  bath   price\n",
       "0  Electronic City Phase II      2 BHK       1056   2.0   39.07\n",
       "1          Chikka Tirupathi  4 Bedroom       2600   5.0  120.00\n",
       "2               Uttarahalli      3 BHK       1440   2.0   62.00\n",
       "3        Lingadheeranahalli      3 BHK       1521   3.0   95.00\n",
       "4                  Kothanur      2 BHK       1200   2.0   51.00"
      ]
     },
     "execution_count": 671,
     "metadata": {},
     "output_type": "execute_result"
    }
   ],
   "source": [
    "df2.head()\n"
   ]
  },
  {
   "cell_type": "code",
   "execution_count": 672,
   "id": "7a22edaea69e59b1",
   "metadata": {
    "ExecuteTime": {
     "end_time": "2024-02-18T20:05:25.931458200Z",
     "start_time": "2024-02-18T20:05:25.594024600Z"
    },
    "collapsed": false
   },
   "outputs": [
    {
     "data": {
      "text/plain": [
       "location       1\n",
       "size          16\n",
       "total_sqft     0\n",
       "bath          73\n",
       "price          0\n",
       "dtype: int64"
      ]
     },
     "execution_count": 672,
     "metadata": {},
     "output_type": "execute_result"
    }
   ],
   "source": [
    "# check if there is null elements\n",
    "df2.isnull().sum()\n"
   ]
  },
  {
   "cell_type": "code",
   "execution_count": 673,
   "id": "f27afeff9839b394",
   "metadata": {
    "ExecuteTime": {
     "end_time": "2024-02-18T20:05:25.959559300Z",
     "start_time": "2024-02-18T20:05:25.612457900Z"
    },
    "collapsed": false
   },
   "outputs": [],
   "source": [
    "# delete all rows that contains missing values\n",
    "df3 = df2.dropna()"
   ]
  },
  {
   "cell_type": "code",
   "execution_count": 674,
   "id": "45127977a699f093",
   "metadata": {
    "ExecuteTime": {
     "end_time": "2024-02-18T20:05:26.057640700Z",
     "start_time": "2024-02-18T20:05:25.631474800Z"
    },
    "collapsed": false
   },
   "outputs": [
    {
     "data": {
      "text/plain": [
       "location      0\n",
       "size          0\n",
       "total_sqft    0\n",
       "bath          0\n",
       "price         0\n",
       "dtype: int64"
      ]
     },
     "execution_count": 674,
     "metadata": {},
     "output_type": "execute_result"
    }
   ],
   "source": [
    "df3.isnull().sum()"
   ]
  },
  {
   "cell_type": "code",
   "execution_count": 675,
   "id": "52b85da04b7ebf48",
   "metadata": {
    "ExecuteTime": {
     "end_time": "2024-02-18T20:05:26.152640100Z",
     "start_time": "2024-02-18T20:05:25.672269200Z"
    },
    "collapsed": false
   },
   "outputs": [
    {
     "data": {
      "text/plain": [
       "(13246, 5)"
      ]
     },
     "execution_count": 675,
     "metadata": {},
     "output_type": "execute_result"
    }
   ],
   "source": [
    "df3.shape"
   ]
  },
  {
   "cell_type": "code",
   "execution_count": 676,
   "id": "bf71ea04507bdcb",
   "metadata": {
    "ExecuteTime": {
     "end_time": "2024-02-18T20:05:26.408641500Z",
     "start_time": "2024-02-18T20:05:25.703550900Z"
    },
    "collapsed": false
   },
   "outputs": [
    {
     "data": {
      "text/plain": [
       "array(['2 BHK', '4 Bedroom', '3 BHK', '4 BHK', '6 Bedroom', '3 Bedroom',\n",
       "       '1 BHK', '1 RK', '1 Bedroom', '8 Bedroom', '2 Bedroom',\n",
       "       '7 Bedroom', '5 BHK', '7 BHK', '6 BHK', '5 Bedroom', '11 BHK',\n",
       "       '9 BHK', '9 Bedroom', '27 BHK', '10 Bedroom', '11 Bedroom',\n",
       "       '10 BHK', '19 BHK', '16 BHK', '43 Bedroom', '14 BHK', '8 BHK',\n",
       "       '12 Bedroom', '13 BHK', '18 Bedroom'], dtype=object)"
      ]
     },
     "execution_count": 676,
     "metadata": {},
     "output_type": "execute_result"
    }
   ],
   "source": [
    "df3['size'].unique()"
   ]
  },
  {
   "cell_type": "code",
   "execution_count": 677,
   "id": "18c92d1ef0e41c8d",
   "metadata": {
    "ExecuteTime": {
     "end_time": "2024-02-18T20:05:26.506643300Z",
     "start_time": "2024-02-18T20:05:25.734638100Z"
    },
    "collapsed": false
   },
   "outputs": [
    {
     "name": "stderr",
     "output_type": "stream",
     "text": [
      "C:\\Users\\dell\\AppData\\Local\\Temp\\ipykernel_23292\\1879338596.py:1: SettingWithCopyWarning: \n",
      "A value is trying to be set on a copy of a slice from a DataFrame.\n",
      "Try using .loc[row_indexer,col_indexer] = value instead\n",
      "\n",
      "See the caveats in the documentation: https://pandas.pydata.org/pandas-docs/stable/user_guide/indexing.html#returning-a-view-versus-a-copy\n",
      "  df3['Bedrooms'] = df3['size'].apply(lambda x: int(x.split(' ')[0]))\n"
     ]
    }
   ],
   "source": [
    "df3['Bedrooms'] = df3['size'].apply(lambda x: int(x.split(' ')[0]))"
   ]
  },
  {
   "cell_type": "code",
   "execution_count": 678,
   "id": "7a508208a6919d8c",
   "metadata": {
    "ExecuteTime": {
     "end_time": "2024-02-18T20:05:26.590639400Z",
     "start_time": "2024-02-18T20:05:25.787056300Z"
    },
    "collapsed": false
   },
   "outputs": [
    {
     "data": {
      "text/html": [
       "<div>\n",
       "<style scoped>\n",
       "    .dataframe tbody tr th:only-of-type {\n",
       "        vertical-align: middle;\n",
       "    }\n",
       "\n",
       "    .dataframe tbody tr th {\n",
       "        vertical-align: top;\n",
       "    }\n",
       "\n",
       "    .dataframe thead th {\n",
       "        text-align: right;\n",
       "    }\n",
       "</style>\n",
       "<table border=\"1\" class=\"dataframe\">\n",
       "  <thead>\n",
       "    <tr style=\"text-align: right;\">\n",
       "      <th></th>\n",
       "      <th>location</th>\n",
       "      <th>size</th>\n",
       "      <th>total_sqft</th>\n",
       "      <th>bath</th>\n",
       "      <th>price</th>\n",
       "      <th>Bedrooms</th>\n",
       "    </tr>\n",
       "  </thead>\n",
       "  <tbody>\n",
       "    <tr>\n",
       "      <th>0</th>\n",
       "      <td>Electronic City Phase II</td>\n",
       "      <td>2 BHK</td>\n",
       "      <td>1056</td>\n",
       "      <td>2.0</td>\n",
       "      <td>39.07</td>\n",
       "      <td>2</td>\n",
       "    </tr>\n",
       "    <tr>\n",
       "      <th>1</th>\n",
       "      <td>Chikka Tirupathi</td>\n",
       "      <td>4 Bedroom</td>\n",
       "      <td>2600</td>\n",
       "      <td>5.0</td>\n",
       "      <td>120.00</td>\n",
       "      <td>4</td>\n",
       "    </tr>\n",
       "    <tr>\n",
       "      <th>2</th>\n",
       "      <td>Uttarahalli</td>\n",
       "      <td>3 BHK</td>\n",
       "      <td>1440</td>\n",
       "      <td>2.0</td>\n",
       "      <td>62.00</td>\n",
       "      <td>3</td>\n",
       "    </tr>\n",
       "    <tr>\n",
       "      <th>3</th>\n",
       "      <td>Lingadheeranahalli</td>\n",
       "      <td>3 BHK</td>\n",
       "      <td>1521</td>\n",
       "      <td>3.0</td>\n",
       "      <td>95.00</td>\n",
       "      <td>3</td>\n",
       "    </tr>\n",
       "    <tr>\n",
       "      <th>4</th>\n",
       "      <td>Kothanur</td>\n",
       "      <td>2 BHK</td>\n",
       "      <td>1200</td>\n",
       "      <td>2.0</td>\n",
       "      <td>51.00</td>\n",
       "      <td>2</td>\n",
       "    </tr>\n",
       "  </tbody>\n",
       "</table>\n",
       "</div>"
      ],
      "text/plain": [
       "                   location       size total_sqft  bath   price  Bedrooms\n",
       "0  Electronic City Phase II      2 BHK       1056   2.0   39.07         2\n",
       "1          Chikka Tirupathi  4 Bedroom       2600   5.0  120.00         4\n",
       "2               Uttarahalli      3 BHK       1440   2.0   62.00         3\n",
       "3        Lingadheeranahalli      3 BHK       1521   3.0   95.00         3\n",
       "4                  Kothanur      2 BHK       1200   2.0   51.00         2"
      ]
     },
     "execution_count": 678,
     "metadata": {},
     "output_type": "execute_result"
    }
   ],
   "source": [
    "df3.head()"
   ]
  },
  {
   "cell_type": "code",
   "execution_count": 679,
   "id": "73d17c96a465963e",
   "metadata": {
    "ExecuteTime": {
     "end_time": "2024-02-18T20:05:26.804048500Z",
     "start_time": "2024-02-18T20:05:26.026570400Z"
    },
    "collapsed": false
   },
   "outputs": [
    {
     "data": {
      "text/plain": [
       "array([ 2,  4,  3,  6,  1,  8,  7,  5, 11,  9, 27, 10, 19, 16, 43, 14, 12,\n",
       "       13, 18], dtype=int64)"
      ]
     },
     "execution_count": 679,
     "metadata": {},
     "output_type": "execute_result"
    }
   ],
   "source": [
    "df3['Bedrooms'].unique()"
   ]
  },
  {
   "cell_type": "code",
   "execution_count": 680,
   "id": "b99104571e63bb95",
   "metadata": {
    "ExecuteTime": {
     "end_time": "2024-02-18T20:05:27.506007Z",
     "start_time": "2024-02-18T20:05:26.777650300Z"
    },
    "collapsed": false
   },
   "outputs": [
    {
     "data": {
      "text/html": [
       "<div>\n",
       "<style scoped>\n",
       "    .dataframe tbody tr th:only-of-type {\n",
       "        vertical-align: middle;\n",
       "    }\n",
       "\n",
       "    .dataframe tbody tr th {\n",
       "        vertical-align: top;\n",
       "    }\n",
       "\n",
       "    .dataframe thead th {\n",
       "        text-align: right;\n",
       "    }\n",
       "</style>\n",
       "<table border=\"1\" class=\"dataframe\">\n",
       "  <thead>\n",
       "    <tr style=\"text-align: right;\">\n",
       "      <th></th>\n",
       "      <th>location</th>\n",
       "      <th>size</th>\n",
       "      <th>total_sqft</th>\n",
       "      <th>bath</th>\n",
       "      <th>price</th>\n",
       "      <th>Bedrooms</th>\n",
       "    </tr>\n",
       "  </thead>\n",
       "  <tbody>\n",
       "    <tr>\n",
       "      <th>0</th>\n",
       "      <td>Electronic City Phase II</td>\n",
       "      <td>2 BHK</td>\n",
       "      <td>1056</td>\n",
       "      <td>2.0</td>\n",
       "      <td>39.07</td>\n",
       "      <td>2</td>\n",
       "    </tr>\n",
       "    <tr>\n",
       "      <th>1</th>\n",
       "      <td>Chikka Tirupathi</td>\n",
       "      <td>4 Bedroom</td>\n",
       "      <td>2600</td>\n",
       "      <td>5.0</td>\n",
       "      <td>120.00</td>\n",
       "      <td>4</td>\n",
       "    </tr>\n",
       "    <tr>\n",
       "      <th>2</th>\n",
       "      <td>Uttarahalli</td>\n",
       "      <td>3 BHK</td>\n",
       "      <td>1440</td>\n",
       "      <td>2.0</td>\n",
       "      <td>62.00</td>\n",
       "      <td>3</td>\n",
       "    </tr>\n",
       "    <tr>\n",
       "      <th>3</th>\n",
       "      <td>Lingadheeranahalli</td>\n",
       "      <td>3 BHK</td>\n",
       "      <td>1521</td>\n",
       "      <td>3.0</td>\n",
       "      <td>95.00</td>\n",
       "      <td>3</td>\n",
       "    </tr>\n",
       "    <tr>\n",
       "      <th>4</th>\n",
       "      <td>Kothanur</td>\n",
       "      <td>2 BHK</td>\n",
       "      <td>1200</td>\n",
       "      <td>2.0</td>\n",
       "      <td>51.00</td>\n",
       "      <td>2</td>\n",
       "    </tr>\n",
       "    <tr>\n",
       "      <th>...</th>\n",
       "      <td>...</td>\n",
       "      <td>...</td>\n",
       "      <td>...</td>\n",
       "      <td>...</td>\n",
       "      <td>...</td>\n",
       "      <td>...</td>\n",
       "    </tr>\n",
       "    <tr>\n",
       "      <th>5028</th>\n",
       "      <td>Vijayanagar</td>\n",
       "      <td>1 BHK</td>\n",
       "      <td>606</td>\n",
       "      <td>1.0</td>\n",
       "      <td>40.00</td>\n",
       "      <td>1</td>\n",
       "    </tr>\n",
       "    <tr>\n",
       "      <th>5029</th>\n",
       "      <td>Gollarapalya Hosahalli</td>\n",
       "      <td>2 BHK</td>\n",
       "      <td>861</td>\n",
       "      <td>2.0</td>\n",
       "      <td>34.50</td>\n",
       "      <td>2</td>\n",
       "    </tr>\n",
       "    <tr>\n",
       "      <th>5030</th>\n",
       "      <td>Devarachikkanahalli</td>\n",
       "      <td>2 BHK</td>\n",
       "      <td>1170</td>\n",
       "      <td>2.0</td>\n",
       "      <td>40.00</td>\n",
       "      <td>2</td>\n",
       "    </tr>\n",
       "    <tr>\n",
       "      <th>5031</th>\n",
       "      <td>Koramangala</td>\n",
       "      <td>4 BHK</td>\n",
       "      <td>2461</td>\n",
       "      <td>6.0</td>\n",
       "      <td>353.00</td>\n",
       "      <td>4</td>\n",
       "    </tr>\n",
       "    <tr>\n",
       "      <th>5032</th>\n",
       "      <td>Marathahalli</td>\n",
       "      <td>2 BHK</td>\n",
       "      <td>1205</td>\n",
       "      <td>2.0</td>\n",
       "      <td>75.00</td>\n",
       "      <td>2</td>\n",
       "    </tr>\n",
       "  </tbody>\n",
       "</table>\n",
       "<p>5000 rows × 6 columns</p>\n",
       "</div>"
      ],
      "text/plain": [
       "                      location       size total_sqft  bath   price  Bedrooms\n",
       "0     Electronic City Phase II      2 BHK       1056   2.0   39.07         2\n",
       "1             Chikka Tirupathi  4 Bedroom       2600   5.0  120.00         4\n",
       "2                  Uttarahalli      3 BHK       1440   2.0   62.00         3\n",
       "3           Lingadheeranahalli      3 BHK       1521   3.0   95.00         3\n",
       "4                     Kothanur      2 BHK       1200   2.0   51.00         2\n",
       "...                        ...        ...        ...   ...     ...       ...\n",
       "5028               Vijayanagar      1 BHK        606   1.0   40.00         1\n",
       "5029    Gollarapalya Hosahalli      2 BHK        861   2.0   34.50         2\n",
       "5030       Devarachikkanahalli      2 BHK       1170   2.0   40.00         2\n",
       "5031               Koramangala      4 BHK       2461   6.0  353.00         4\n",
       "5032              Marathahalli      2 BHK       1205   2.0   75.00         2\n",
       "\n",
       "[5000 rows x 6 columns]"
      ]
     },
     "execution_count": 680,
     "metadata": {},
     "output_type": "execute_result"
    }
   ],
   "source": [
    "df3.head(5000)"
   ]
  },
  {
   "cell_type": "code",
   "execution_count": 681,
   "id": "9beda7b898f9f472",
   "metadata": {
    "ExecuteTime": {
     "end_time": "2024-02-18T20:05:27.990900800Z",
     "start_time": "2024-02-18T20:05:27.475572600Z"
    },
    "collapsed": false
   },
   "outputs": [
    {
     "data": {
      "text/html": [
       "<div>\n",
       "<style scoped>\n",
       "    .dataframe tbody tr th:only-of-type {\n",
       "        vertical-align: middle;\n",
       "    }\n",
       "\n",
       "    .dataframe tbody tr th {\n",
       "        vertical-align: top;\n",
       "    }\n",
       "\n",
       "    .dataframe thead th {\n",
       "        text-align: right;\n",
       "    }\n",
       "</style>\n",
       "<table border=\"1\" class=\"dataframe\">\n",
       "  <thead>\n",
       "    <tr style=\"text-align: right;\">\n",
       "      <th></th>\n",
       "      <th>location</th>\n",
       "      <th>size</th>\n",
       "      <th>total_sqft</th>\n",
       "      <th>bath</th>\n",
       "      <th>price</th>\n",
       "      <th>Bedrooms</th>\n",
       "    </tr>\n",
       "  </thead>\n",
       "  <tbody>\n",
       "    <tr>\n",
       "      <th>1718</th>\n",
       "      <td>2Electronic City Phase II</td>\n",
       "      <td>27 BHK</td>\n",
       "      <td>8000</td>\n",
       "      <td>27.0</td>\n",
       "      <td>230.0</td>\n",
       "      <td>27</td>\n",
       "    </tr>\n",
       "    <tr>\n",
       "      <th>4684</th>\n",
       "      <td>Munnekollal</td>\n",
       "      <td>43 Bedroom</td>\n",
       "      <td>2400</td>\n",
       "      <td>40.0</td>\n",
       "      <td>660.0</td>\n",
       "      <td>43</td>\n",
       "    </tr>\n",
       "  </tbody>\n",
       "</table>\n",
       "</div>"
      ],
      "text/plain": [
       "                       location        size total_sqft  bath  price  Bedrooms\n",
       "1718  2Electronic City Phase II      27 BHK       8000  27.0  230.0        27\n",
       "4684                Munnekollal  43 Bedroom       2400  40.0  660.0        43"
      ]
     },
     "execution_count": 681,
     "metadata": {},
     "output_type": "execute_result"
    }
   ],
   "source": [
    "df3[df3.Bedrooms>20]"
   ]
  },
  {
   "cell_type": "code",
   "execution_count": 682,
   "id": "73cc531e7678b5da",
   "metadata": {
    "ExecuteTime": {
     "end_time": "2024-02-18T20:05:28.246900200Z",
     "start_time": "2024-02-18T20:05:27.796532Z"
    },
    "collapsed": false
   },
   "outputs": [],
   "source": [
    "def is_float(x):\n",
    "    try:\n",
    "        float(x)\n",
    "    except:\n",
    "        return False\n",
    "    return True \n"
   ]
  },
  {
   "cell_type": "code",
   "execution_count": 683,
   "id": "6c65b23e736cc66c",
   "metadata": {
    "ExecuteTime": {
     "end_time": "2024-02-18T20:05:28.771171400Z",
     "start_time": "2024-02-18T20:05:28.249900Z"
    },
    "collapsed": false
   },
   "outputs": [
    {
     "data": {
      "text/html": [
       "<div>\n",
       "<style scoped>\n",
       "    .dataframe tbody tr th:only-of-type {\n",
       "        vertical-align: middle;\n",
       "    }\n",
       "\n",
       "    .dataframe tbody tr th {\n",
       "        vertical-align: top;\n",
       "    }\n",
       "\n",
       "    .dataframe thead th {\n",
       "        text-align: right;\n",
       "    }\n",
       "</style>\n",
       "<table border=\"1\" class=\"dataframe\">\n",
       "  <thead>\n",
       "    <tr style=\"text-align: right;\">\n",
       "      <th></th>\n",
       "      <th>location</th>\n",
       "      <th>size</th>\n",
       "      <th>total_sqft</th>\n",
       "      <th>bath</th>\n",
       "      <th>price</th>\n",
       "      <th>Bedrooms</th>\n",
       "    </tr>\n",
       "  </thead>\n",
       "  <tbody>\n",
       "    <tr>\n",
       "      <th>30</th>\n",
       "      <td>Yelahanka</td>\n",
       "      <td>4 BHK</td>\n",
       "      <td>2100 - 2850</td>\n",
       "      <td>4.0</td>\n",
       "      <td>186.000</td>\n",
       "      <td>4</td>\n",
       "    </tr>\n",
       "    <tr>\n",
       "      <th>122</th>\n",
       "      <td>Hebbal</td>\n",
       "      <td>4 BHK</td>\n",
       "      <td>3067 - 8156</td>\n",
       "      <td>4.0</td>\n",
       "      <td>477.000</td>\n",
       "      <td>4</td>\n",
       "    </tr>\n",
       "    <tr>\n",
       "      <th>137</th>\n",
       "      <td>8th Phase JP Nagar</td>\n",
       "      <td>2 BHK</td>\n",
       "      <td>1042 - 1105</td>\n",
       "      <td>2.0</td>\n",
       "      <td>54.005</td>\n",
       "      <td>2</td>\n",
       "    </tr>\n",
       "    <tr>\n",
       "      <th>165</th>\n",
       "      <td>Sarjapur</td>\n",
       "      <td>2 BHK</td>\n",
       "      <td>1145 - 1340</td>\n",
       "      <td>2.0</td>\n",
       "      <td>43.490</td>\n",
       "      <td>2</td>\n",
       "    </tr>\n",
       "    <tr>\n",
       "      <th>188</th>\n",
       "      <td>KR Puram</td>\n",
       "      <td>2 BHK</td>\n",
       "      <td>1015 - 1540</td>\n",
       "      <td>2.0</td>\n",
       "      <td>56.800</td>\n",
       "      <td>2</td>\n",
       "    </tr>\n",
       "    <tr>\n",
       "      <th>...</th>\n",
       "      <td>...</td>\n",
       "      <td>...</td>\n",
       "      <td>...</td>\n",
       "      <td>...</td>\n",
       "      <td>...</td>\n",
       "      <td>...</td>\n",
       "    </tr>\n",
       "    <tr>\n",
       "      <th>12975</th>\n",
       "      <td>Whitefield</td>\n",
       "      <td>2 BHK</td>\n",
       "      <td>850 - 1060</td>\n",
       "      <td>2.0</td>\n",
       "      <td>38.190</td>\n",
       "      <td>2</td>\n",
       "    </tr>\n",
       "    <tr>\n",
       "      <th>12990</th>\n",
       "      <td>Talaghattapura</td>\n",
       "      <td>3 BHK</td>\n",
       "      <td>1804 - 2273</td>\n",
       "      <td>3.0</td>\n",
       "      <td>122.000</td>\n",
       "      <td>3</td>\n",
       "    </tr>\n",
       "    <tr>\n",
       "      <th>13059</th>\n",
       "      <td>Harlur</td>\n",
       "      <td>2 BHK</td>\n",
       "      <td>1200 - 1470</td>\n",
       "      <td>2.0</td>\n",
       "      <td>72.760</td>\n",
       "      <td>2</td>\n",
       "    </tr>\n",
       "    <tr>\n",
       "      <th>13265</th>\n",
       "      <td>Hoodi</td>\n",
       "      <td>2 BHK</td>\n",
       "      <td>1133 - 1384</td>\n",
       "      <td>2.0</td>\n",
       "      <td>59.135</td>\n",
       "      <td>2</td>\n",
       "    </tr>\n",
       "    <tr>\n",
       "      <th>13299</th>\n",
       "      <td>Whitefield</td>\n",
       "      <td>4 BHK</td>\n",
       "      <td>2830 - 2882</td>\n",
       "      <td>5.0</td>\n",
       "      <td>154.500</td>\n",
       "      <td>4</td>\n",
       "    </tr>\n",
       "  </tbody>\n",
       "</table>\n",
       "<p>190 rows × 6 columns</p>\n",
       "</div>"
      ],
      "text/plain": [
       "                 location   size   total_sqft  bath    price  Bedrooms\n",
       "30              Yelahanka  4 BHK  2100 - 2850   4.0  186.000         4\n",
       "122                Hebbal  4 BHK  3067 - 8156   4.0  477.000         4\n",
       "137    8th Phase JP Nagar  2 BHK  1042 - 1105   2.0   54.005         2\n",
       "165              Sarjapur  2 BHK  1145 - 1340   2.0   43.490         2\n",
       "188              KR Puram  2 BHK  1015 - 1540   2.0   56.800         2\n",
       "...                   ...    ...          ...   ...      ...       ...\n",
       "12975          Whitefield  2 BHK   850 - 1060   2.0   38.190         2\n",
       "12990      Talaghattapura  3 BHK  1804 - 2273   3.0  122.000         3\n",
       "13059              Harlur  2 BHK  1200 - 1470   2.0   72.760         2\n",
       "13265               Hoodi  2 BHK  1133 - 1384   2.0   59.135         2\n",
       "13299          Whitefield  4 BHK  2830 - 2882   5.0  154.500         4\n",
       "\n",
       "[190 rows x 6 columns]"
      ]
     },
     "execution_count": 683,
     "metadata": {},
     "output_type": "execute_result"
    }
   ],
   "source": [
    "df3[~df3['total_sqft'].apply(is_float)]"
   ]
  },
  {
   "cell_type": "code",
   "execution_count": 684,
   "id": "46cfe7eab9cf5f32",
   "metadata": {
    "ExecuteTime": {
     "end_time": "2024-02-18T20:05:29.077211900Z",
     "start_time": "2024-02-18T20:05:28.721120900Z"
    },
    "collapsed": false
   },
   "outputs": [
    {
     "data": {
      "text/plain": [
       "dtype('O')"
      ]
     },
     "execution_count": 684,
     "metadata": {},
     "output_type": "execute_result"
    }
   ],
   "source": [
    "df3['total_sqft'].dtype"
   ]
  },
  {
   "cell_type": "code",
   "execution_count": 685,
   "id": "922068e6cafb00e8",
   "metadata": {
    "ExecuteTime": {
     "end_time": "2024-02-18T20:05:29.314612900Z",
     "start_time": "2024-02-18T20:05:29.030169200Z"
    },
    "collapsed": false
   },
   "outputs": [],
   "source": [
    "def convert_sting_to_num(x):\n",
    "    tokens = x.split('-')\n",
    "    if len(tokens) == 2:\n",
    "        return (float(tokens[0]) + float(tokens[1]))/2\n",
    "    try:\n",
    "        return float(x)\n",
    "    except:\n",
    "        return None"
   ]
  },
  {
   "cell_type": "code",
   "execution_count": 686,
   "id": "135604741d6d59b",
   "metadata": {
    "ExecuteTime": {
     "end_time": "2024-02-18T20:05:29.525165600Z",
     "start_time": "2024-02-18T20:05:29.286212300Z"
    },
    "collapsed": false
   },
   "outputs": [
    {
     "data": {
      "text/plain": [
       "2166.0"
      ]
     },
     "execution_count": 686,
     "metadata": {},
     "output_type": "execute_result"
    }
   ],
   "source": [
    "convert_sting_to_num('2166')"
   ]
  },
  {
   "cell_type": "code",
   "execution_count": 687,
   "id": "aa53453dd461503c",
   "metadata": {
    "ExecuteTime": {
     "end_time": "2024-02-18T20:05:29.861174300Z",
     "start_time": "2024-02-18T20:05:29.488154400Z"
    },
    "collapsed": false
   },
   "outputs": [
    {
     "data": {
      "text/plain": [
       "1500.0"
      ]
     },
     "execution_count": 687,
     "metadata": {},
     "output_type": "execute_result"
    }
   ],
   "source": [
    "convert_sting_to_num('1000-2000')"
   ]
  },
  {
   "cell_type": "code",
   "execution_count": 688,
   "id": "73f9de48f760b9f4",
   "metadata": {
    "ExecuteTime": {
     "end_time": "2024-02-18T20:05:57.849609700Z",
     "start_time": "2024-02-18T20:05:57.292917200Z"
    },
    "collapsed": false
   },
   "outputs": [],
   "source": [
    "convert_sting_to_num('2000 Sqrt Meter')"
   ]
  },
  {
   "cell_type": "code",
   "execution_count": 689,
   "id": "a63e2a5b70e4c4c7",
   "metadata": {
    "ExecuteTime": {
     "end_time": "2024-02-18T20:05:30.364009500Z",
     "start_time": "2024-02-18T20:05:30.009169200Z"
    },
    "collapsed": false
   },
   "outputs": [],
   "source": [
    "df4 = df3.copy()\n",
    "df4['total_sqft'] = df4['total_sqft'].apply(convert_sting_to_num)"
   ]
  },
  {
   "cell_type": "code",
   "execution_count": 690,
   "id": "434620354515fde8",
   "metadata": {
    "ExecuteTime": {
     "end_time": "2024-02-18T20:09:52.029106700Z",
     "start_time": "2024-02-18T20:09:51.915326Z"
    },
    "collapsed": false
   },
   "outputs": [
    {
     "data": {
      "text/plain": [
       "dtype('float64')"
      ]
     },
     "execution_count": 690,
     "metadata": {},
     "output_type": "execute_result"
    }
   ],
   "source": [
    "df4['total_sqft'].dtype"
   ]
  },
  {
   "cell_type": "code",
   "execution_count": 691,
   "id": "88e794043451dcf5",
   "metadata": {
    "ExecuteTime": {
     "end_time": "2024-02-18T20:09:55.561982Z",
     "start_time": "2024-02-18T20:09:55.436982200Z"
    },
    "collapsed": false
   },
   "outputs": [
    {
     "data": {
      "text/plain": [
       "location      Bettahalsoor\n",
       "size             4 Bedroom\n",
       "total_sqft     3090 - 5002\n",
       "bath                   4.0\n",
       "price                445.0\n",
       "Bedrooms                 4\n",
       "Name: 672, dtype: object"
      ]
     },
     "execution_count": 691,
     "metadata": {},
     "output_type": "execute_result"
    }
   ],
   "source": [
    "df3.loc[672]"
   ]
  },
  {
   "cell_type": "code",
   "execution_count": 692,
   "id": "6d4edfa3c6fd7fb7",
   "metadata": {
    "ExecuteTime": {
     "end_time": "2024-02-18T20:05:30.907622300Z",
     "start_time": "2024-02-18T20:05:30.697534600Z"
    },
    "collapsed": false
   },
   "outputs": [
    {
     "data": {
      "text/html": [
       "<div>\n",
       "<style scoped>\n",
       "    .dataframe tbody tr th:only-of-type {\n",
       "        vertical-align: middle;\n",
       "    }\n",
       "\n",
       "    .dataframe tbody tr th {\n",
       "        vertical-align: top;\n",
       "    }\n",
       "\n",
       "    .dataframe thead th {\n",
       "        text-align: right;\n",
       "    }\n",
       "</style>\n",
       "<table border=\"1\" class=\"dataframe\">\n",
       "  <thead>\n",
       "    <tr style=\"text-align: right;\">\n",
       "      <th></th>\n",
       "      <th>location</th>\n",
       "      <th>size</th>\n",
       "      <th>total_sqft</th>\n",
       "      <th>bath</th>\n",
       "      <th>price</th>\n",
       "      <th>Bedrooms</th>\n",
       "    </tr>\n",
       "  </thead>\n",
       "  <tbody>\n",
       "    <tr>\n",
       "      <th>0</th>\n",
       "      <td>Electronic City Phase II</td>\n",
       "      <td>2 BHK</td>\n",
       "      <td>1056.0</td>\n",
       "      <td>2.0</td>\n",
       "      <td>39.07</td>\n",
       "      <td>2</td>\n",
       "    </tr>\n",
       "    <tr>\n",
       "      <th>1</th>\n",
       "      <td>Chikka Tirupathi</td>\n",
       "      <td>4 Bedroom</td>\n",
       "      <td>2600.0</td>\n",
       "      <td>5.0</td>\n",
       "      <td>120.00</td>\n",
       "      <td>4</td>\n",
       "    </tr>\n",
       "    <tr>\n",
       "      <th>2</th>\n",
       "      <td>Uttarahalli</td>\n",
       "      <td>3 BHK</td>\n",
       "      <td>1440.0</td>\n",
       "      <td>2.0</td>\n",
       "      <td>62.00</td>\n",
       "      <td>3</td>\n",
       "    </tr>\n",
       "    <tr>\n",
       "      <th>3</th>\n",
       "      <td>Lingadheeranahalli</td>\n",
       "      <td>3 BHK</td>\n",
       "      <td>1521.0</td>\n",
       "      <td>3.0</td>\n",
       "      <td>95.00</td>\n",
       "      <td>3</td>\n",
       "    </tr>\n",
       "    <tr>\n",
       "      <th>4</th>\n",
       "      <td>Kothanur</td>\n",
       "      <td>2 BHK</td>\n",
       "      <td>1200.0</td>\n",
       "      <td>2.0</td>\n",
       "      <td>51.00</td>\n",
       "      <td>2</td>\n",
       "    </tr>\n",
       "  </tbody>\n",
       "</table>\n",
       "</div>"
      ],
      "text/plain": [
       "                   location       size  total_sqft  bath   price  Bedrooms\n",
       "0  Electronic City Phase II      2 BHK      1056.0   2.0   39.07         2\n",
       "1          Chikka Tirupathi  4 Bedroom      2600.0   5.0  120.00         4\n",
       "2               Uttarahalli      3 BHK      1440.0   2.0   62.00         3\n",
       "3        Lingadheeranahalli      3 BHK      1521.0   3.0   95.00         3\n",
       "4                  Kothanur      2 BHK      1200.0   2.0   51.00         2"
      ]
     },
     "execution_count": 692,
     "metadata": {},
     "output_type": "execute_result"
    }
   ],
   "source": [
    "df5 = df4.copy()\n",
    "df5.head()"
   ]
  },
  {
   "cell_type": "code",
   "execution_count": 693,
   "id": "1305d05c599a4565",
   "metadata": {
    "ExecuteTime": {
     "end_time": "2024-02-18T20:05:31.145158100Z",
     "start_time": "2024-02-18T20:05:30.853609Z"
    },
    "collapsed": false
   },
   "outputs": [
    {
     "data": {
      "text/html": [
       "<div>\n",
       "<style scoped>\n",
       "    .dataframe tbody tr th:only-of-type {\n",
       "        vertical-align: middle;\n",
       "    }\n",
       "\n",
       "    .dataframe tbody tr th {\n",
       "        vertical-align: top;\n",
       "    }\n",
       "\n",
       "    .dataframe thead th {\n",
       "        text-align: right;\n",
       "    }\n",
       "</style>\n",
       "<table border=\"1\" class=\"dataframe\">\n",
       "  <thead>\n",
       "    <tr style=\"text-align: right;\">\n",
       "      <th></th>\n",
       "      <th>location</th>\n",
       "      <th>size</th>\n",
       "      <th>total_sqft</th>\n",
       "      <th>bath</th>\n",
       "      <th>price</th>\n",
       "      <th>Bedrooms</th>\n",
       "      <th>price_per_sqft</th>\n",
       "    </tr>\n",
       "  </thead>\n",
       "  <tbody>\n",
       "    <tr>\n",
       "      <th>0</th>\n",
       "      <td>Electronic City Phase II</td>\n",
       "      <td>2 BHK</td>\n",
       "      <td>1056.0</td>\n",
       "      <td>2.0</td>\n",
       "      <td>39.07</td>\n",
       "      <td>2</td>\n",
       "      <td>3699.810606</td>\n",
       "    </tr>\n",
       "    <tr>\n",
       "      <th>1</th>\n",
       "      <td>Chikka Tirupathi</td>\n",
       "      <td>4 Bedroom</td>\n",
       "      <td>2600.0</td>\n",
       "      <td>5.0</td>\n",
       "      <td>120.00</td>\n",
       "      <td>4</td>\n",
       "      <td>4615.384615</td>\n",
       "    </tr>\n",
       "    <tr>\n",
       "      <th>2</th>\n",
       "      <td>Uttarahalli</td>\n",
       "      <td>3 BHK</td>\n",
       "      <td>1440.0</td>\n",
       "      <td>2.0</td>\n",
       "      <td>62.00</td>\n",
       "      <td>3</td>\n",
       "      <td>4305.555556</td>\n",
       "    </tr>\n",
       "    <tr>\n",
       "      <th>3</th>\n",
       "      <td>Lingadheeranahalli</td>\n",
       "      <td>3 BHK</td>\n",
       "      <td>1521.0</td>\n",
       "      <td>3.0</td>\n",
       "      <td>95.00</td>\n",
       "      <td>3</td>\n",
       "      <td>6245.890861</td>\n",
       "    </tr>\n",
       "    <tr>\n",
       "      <th>4</th>\n",
       "      <td>Kothanur</td>\n",
       "      <td>2 BHK</td>\n",
       "      <td>1200.0</td>\n",
       "      <td>2.0</td>\n",
       "      <td>51.00</td>\n",
       "      <td>2</td>\n",
       "      <td>4250.000000</td>\n",
       "    </tr>\n",
       "  </tbody>\n",
       "</table>\n",
       "</div>"
      ],
      "text/plain": [
       "                   location       size  total_sqft  bath   price  Bedrooms  \\\n",
       "0  Electronic City Phase II      2 BHK      1056.0   2.0   39.07         2   \n",
       "1          Chikka Tirupathi  4 Bedroom      2600.0   5.0  120.00         4   \n",
       "2               Uttarahalli      3 BHK      1440.0   2.0   62.00         3   \n",
       "3        Lingadheeranahalli      3 BHK      1521.0   3.0   95.00         3   \n",
       "4                  Kothanur      2 BHK      1200.0   2.0   51.00         2   \n",
       "\n",
       "   price_per_sqft  \n",
       "0     3699.810606  \n",
       "1     4615.384615  \n",
       "2     4305.555556  \n",
       "3     6245.890861  \n",
       "4     4250.000000  "
      ]
     },
     "execution_count": 693,
     "metadata": {},
     "output_type": "execute_result"
    }
   ],
   "source": [
    "df5['price_per_sqft'] = df5['price']*100000/df5['total_sqft']\n",
    "df5.head()"
   ]
  },
  {
   "cell_type": "code",
   "execution_count": 694,
   "id": "982b460a99ef8af",
   "metadata": {
    "ExecuteTime": {
     "end_time": "2024-02-18T20:05:31.460056900Z",
     "start_time": "2024-02-18T20:05:31.102633600Z"
    },
    "collapsed": false
   },
   "outputs": [
    {
     "data": {
      "text/plain": [
       "1304"
      ]
     },
     "execution_count": 694,
     "metadata": {},
     "output_type": "execute_result"
    }
   ],
   "source": [
    "len(df5.location.unique())"
   ]
  },
  {
   "cell_type": "markdown",
   "id": "888c331cbec8e3ac",
   "metadata": {
    "collapsed": false
   },
   "source": []
  },
  {
   "cell_type": "code",
   "execution_count": 695,
   "id": "79e5faae23463bcc",
   "metadata": {
    "ExecuteTime": {
     "end_time": "2024-02-18T20:16:47.848940900Z",
     "start_time": "2024-02-18T20:16:47.666275300Z"
    },
    "collapsed": false
   },
   "outputs": [
    {
     "data": {
      "text/plain": [
       "location\n",
       "Whitefield               535\n",
       "Sarjapur  Road           392\n",
       "Electronic City          304\n",
       "Kanakpura Road           266\n",
       "Thanisandra              236\n",
       "                        ... \n",
       "1 Giri Nagar               1\n",
       "Kanakapura Road,           1\n",
       "Kanakapura main  Road      1\n",
       "Karnataka Shabarimala      1\n",
       "whitefiled                 1\n",
       "Name: location, Length: 1293, dtype: int64"
      ]
     },
     "execution_count": 695,
     "metadata": {},
     "output_type": "execute_result"
    }
   ],
   "source": [
    "df5.location = df5.location.apply(lambda x: x.strip())\n",
    "location_stats = df5.groupby('location')['location'].agg('count').sort_values(ascending = False)\n",
    "location_stats"
   ]
  },
  {
   "cell_type": "code",
   "execution_count": 696,
   "id": "710cbfcca4c93c19",
   "metadata": {
    "ExecuteTime": {
     "end_time": "2024-02-18T20:05:32.016963100Z",
     "start_time": "2024-02-18T20:05:31.697062800Z"
    },
    "collapsed": false
   },
   "outputs": [
    {
     "data": {
      "text/plain": [
       "1052"
      ]
     },
     "execution_count": 696,
     "metadata": {},
     "output_type": "execute_result"
    }
   ],
   "source": [
    "len(location_stats[location_stats <= 10])"
   ]
  },
  {
   "cell_type": "code",
   "execution_count": 697,
   "id": "466315b8-c30b-4d9c-b492-5b232cc474ac",
   "metadata": {
    "ExecuteTime": {
     "end_time": "2024-02-18T20:05:32.307964700Z",
     "start_time": "2024-02-18T20:05:31.970966600Z"
    }
   },
   "outputs": [],
   "source": [
    "location_stats_less_than_10 = location_stats[location_stats <= 10]"
   ]
  },
  {
   "cell_type": "code",
   "execution_count": 698,
   "id": "a9a586aefb8f4b70",
   "metadata": {
    "ExecuteTime": {
     "end_time": "2024-02-18T20:05:32.579070200Z",
     "start_time": "2024-02-18T20:05:32.290965500Z"
    },
    "collapsed": false
   },
   "outputs": [
    {
     "data": {
      "text/plain": [
       "242"
      ]
     },
     "execution_count": 698,
     "metadata": {},
     "output_type": "execute_result"
    }
   ],
   "source": [
    "df5.location = df5.location.apply(lambda x:'others' if x in location_stats_less_than_10 else x)\n",
    "len(df5.location.unique())"
   ]
  },
  {
   "cell_type": "code",
   "execution_count": 699,
   "id": "daffa9a7-8e08-412a-b11b-ee19b430f0cb",
   "metadata": {
    "ExecuteTime": {
     "end_time": "2024-02-18T20:05:32.686071500Z",
     "start_time": "2024-02-18T20:05:32.554965Z"
    }
   },
   "outputs": [
    {
     "data": {
      "text/plain": [
       "744"
      ]
     },
     "execution_count": 699,
     "metadata": {},
     "output_type": "execute_result"
    }
   ],
   "source": [
    "len(df5[(df5.total_sqft / df5.Bedrooms) < 300 ] )\n"
   ]
  },
  {
   "cell_type": "code",
   "execution_count": 700,
   "id": "a4de0515-16bb-4ab1-ab08-531c04cef34e",
   "metadata": {
    "ExecuteTime": {
     "end_time": "2024-02-18T20:05:32.952113200Z",
     "start_time": "2024-02-18T20:05:32.687071600Z"
    }
   },
   "outputs": [],
   "source": [
    "df6 = df5[~(df5.total_sqft / df5.Bedrooms < 300) ] "
   ]
  },
  {
   "cell_type": "code",
   "execution_count": 701,
   "id": "adc43f40-af8d-4311-aec7-57ab257426c5",
   "metadata": {
    "ExecuteTime": {
     "end_time": "2024-02-18T20:05:33.159640500Z",
     "start_time": "2024-02-18T20:05:32.894114600Z"
    }
   },
   "outputs": [
    {
     "data": {
      "text/plain": [
       "(12502, 7)"
      ]
     },
     "execution_count": 701,
     "metadata": {},
     "output_type": "execute_result"
    }
   ],
   "source": [
    "df6.shape"
   ]
  },
  {
   "cell_type": "code",
   "execution_count": 702,
   "id": "956af8c7-4364-4574-b34e-c33e2e24900c",
   "metadata": {
    "ExecuteTime": {
     "end_time": "2024-02-18T20:05:33.373162600Z",
     "start_time": "2024-02-18T20:05:33.126112800Z"
    }
   },
   "outputs": [
    {
     "data": {
      "text/plain": [
       "count     12456.000000\n",
       "mean       6308.502826\n",
       "std        4168.127339\n",
       "min         267.829813\n",
       "25%        4210.526316\n",
       "50%        5294.117647\n",
       "75%        6916.666667\n",
       "max      176470.588235\n",
       "Name: price_per_sqft, dtype: float64"
      ]
     },
     "execution_count": 702,
     "metadata": {},
     "output_type": "execute_result"
    }
   ],
   "source": [
    "df6.price_per_sqft.describe()"
   ]
  },
  {
   "cell_type": "code",
   "execution_count": 703,
   "id": "d4d8ff13-5591-49c3-b764-0825c30b5687",
   "metadata": {
    "ExecuteTime": {
     "end_time": "2024-02-18T20:05:33.537163100Z",
     "start_time": "2024-02-18T20:05:33.290638300Z"
    }
   },
   "outputs": [],
   "source": [
    "def remove_pps_outliers(df):\n",
    "    df_out = pd.DataFrame()\n",
    "    for key,subdf in df.groupby('location'):\n",
    "        m = np.mean(subdf.price_per_sqft)\n",
    "        std = np.std(subdf.price_per_sqft)\n",
    "        reduced_df = subdf[(subdf.price_per_sqft > (m - std)) & (subdf.price_per_sqft < (m + std))]\n",
    "        df_out = pd.concat([df_out,reduced_df], ignore_index = True)\n",
    "    return df_out"
   ]
  },
  {
   "cell_type": "code",
   "execution_count": 704,
   "id": "071253cb-1113-41e2-b212-7dcf9274cc7f",
   "metadata": {
    "ExecuteTime": {
     "end_time": "2024-02-18T20:05:34.355662Z",
     "start_time": "2024-02-18T20:05:33.516164800Z"
    }
   },
   "outputs": [
    {
     "data": {
      "text/plain": [
       "(10241, 7)"
      ]
     },
     "execution_count": 704,
     "metadata": {},
     "output_type": "execute_result"
    }
   ],
   "source": [
    "df7 = remove_pps_outliers(df6)\n",
    "df7.shape"
   ]
  },
  {
   "cell_type": "code",
   "execution_count": 705,
   "id": "7d3d58b4-3a7d-451b-bc81-07588361caf4",
   "metadata": {
    "ExecuteTime": {
     "end_time": "2024-02-18T20:05:34.455660400Z",
     "start_time": "2024-02-18T20:05:34.267817400Z"
    }
   },
   "outputs": [
    {
     "data": {
      "text/plain": [
       "count    10241.000000\n",
       "mean      5657.702572\n",
       "std       2266.476980\n",
       "min       1250.000000\n",
       "25%       4244.762955\n",
       "50%       5172.413793\n",
       "75%       6426.099852\n",
       "max      24509.803922\n",
       "Name: price_per_sqft, dtype: float64"
      ]
     },
     "execution_count": 705,
     "metadata": {},
     "output_type": "execute_result"
    }
   ],
   "source": [
    "df7.price_per_sqft.describe()"
   ]
  },
  {
   "cell_type": "code",
   "execution_count": 706,
   "id": "2d16ad18-b75d-4053-b58a-301ddfb4de4e",
   "metadata": {
    "ExecuteTime": {
     "end_time": "2024-02-18T20:05:34.467659500Z",
     "start_time": "2024-02-18T20:05:34.287819100Z"
    }
   },
   "outputs": [],
   "source": [
    "def plot_scatter_chart(df,location):\n",
    "    two_bedrooms = df[(df.location == location) & (df.Bedrooms == 2)]\n",
    "    three_bedrooms = df[(df.location == location) & (df.Bedrooms == 3)]\n",
    "    matplotlib.rcParams[\"figure.figsize\"] = (15,10)\n",
    "    plt.scatter(two_bedrooms.total_sqft,two_bedrooms.price_per_sqft,color = 'blue',label = \"2 Bedrooms\" , s = 50 )\n",
    "    plt.scatter(three_bedrooms.total_sqft,three_bedrooms.price_per_sqft,marker = '+',color = 'red',label = \"3 Bedrooms\" , s = 50 )\n",
    "    plt.xlabel(\"Total Square feet Area\")\n",
    "    plt.ylabel(\"Price per Square Feet\")\n",
    "    plt.title(location)\n",
    "    plt.legend()"
   ]
  },
  {
   "cell_type": "code",
   "execution_count": 707,
   "id": "22aee5ab-def2-488e-9e39-3d4c62be33dc",
   "metadata": {
    "ExecuteTime": {
     "end_time": "2024-02-18T20:05:35.128194800Z",
     "start_time": "2024-02-18T20:05:34.303659100Z"
    }
   },
   "outputs": [
    {
     "data": {
      "image/png": "[encoded data removed]",
      "text/plain": [
       "<Figure size 1500x1000 with 1 Axes>"
      ]
     },
     "metadata": {},
     "output_type": "display_data"
    }
   ],
   "source": [
    "plot_scatter_chart(df7,\"Hebbal\")"
   ]
  },
  {
   "cell_type": "markdown",
   "id": "16794e16-f6c5-4f6c-be0a-c000063b35b5",
   "metadata": {},
   "source": [
    "We Should also remove properties where for same location, the price of(for example) 3 bedrooms appartment is less than 2 bedroom appartment(with the same square ft area). What we will do is for a given location, we will build a dictionary of stats per bedroom\n",
    "\n",
    "Now we can remove those 2 bedrooms apartments whose price_per_sqft is less than the mean price_per_sqft of 1 bedroom appartment "
   ]
  },
  {
   "cell_type": "code",
   "execution_count": 708,
   "id": "bcfae66d-fbfe-40d7-ab02-cab469a2abf6",
   "metadata": {
    "ExecuteTime": {
     "end_time": "2024-02-18T20:05:36.968224900Z",
     "start_time": "2024-02-18T20:05:35.104183600Z"
    }
   },
   "outputs": [
    {
     "data": {
      "text/plain": [
       "(7308, 7)"
      ]
     },
     "execution_count": 708,
     "metadata": {},
     "output_type": "execute_result"
    }
   ],
   "source": [
    "def remove_bedrooms_outliers(df):\n",
    "    exclusive_indices = np.array([])\n",
    "    bedrooms_stats = {}  \n",
    "    for location, location_df in df.groupby('location'):\n",
    "        for bedrooms, bedrooms_df in location_df.groupby('Bedrooms'):\n",
    "            bedrooms_stats[bedrooms] = {\n",
    "                'mean': np.mean(bedrooms_df.price_per_sqft),\n",
    "                'std': np.std(bedrooms_df.price_per_sqft),\n",
    "                'count': bedrooms_df.shape[0]\n",
    "            }\n",
    "        for bedrooms, bedrooms_df in location_df.groupby('Bedrooms'):\n",
    "            stats = bedrooms_stats.get(bedrooms - 1)\n",
    "            if stats and stats['count'] > 5:\n",
    "                exclusive_indices = np.append(exclusive_indices, bedrooms_df[bedrooms_df.price_per_sqft < (stats['mean'])].index.values)\n",
    "    return df.drop(exclusive_indices, axis='index') \n",
    "\n",
    "\n",
    "df8 = remove_bedrooms_outliers(df7)\n",
    "df8.shape\n"
   ]
  },
  {
   "cell_type": "markdown",
   "id": "e72af293-c1a2-45b2-9564-0124cf68ed9f",
   "metadata": {},
   "source": [
    "lets plot the above graph again to see what changed"
   ]
  },
  {
   "cell_type": "code",
   "execution_count": 709,
   "id": "2f0778e5-b479-4447-a3aa-824a5ccf21de",
   "metadata": {
    "ExecuteTime": {
     "end_time": "2024-02-18T20:05:38.204956500Z",
     "start_time": "2024-02-18T20:05:36.922223500Z"
    }
   },
   "outputs": [
    {
     "data": {
      "image/png": "[encoded data removed]",
      "text/plain": [
       "<Figure size 1500x1000 with 1 Axes>"
      ]
     },
     "metadata": {},
     "output_type": "display_data"
    }
   ],
   "source": [
    "plot_scatter_chart(df8,\"Hebbal\")"
   ]
  },
  {
   "cell_type": "code",
   "execution_count": 710,
   "id": "02d83112-4d4a-4fa2-900a-d052a1de8085",
   "metadata": {
    "ExecuteTime": {
     "end_time": "2024-02-18T20:05:38.651423400Z",
     "start_time": "2024-02-18T20:05:38.188959500Z"
    }
   },
   "outputs": [
    {
     "data": {
      "text/plain": [
       "Text(0, 0.5, 'Count')"
      ]
     },
     "execution_count": 710,
     "metadata": {},
     "output_type": "execute_result"
    },
    {
     "data": {
      "image/png": "[encoded data removed]",
      "text/plain": [
       "<Figure size 1500x1000 with 1 Axes>"
      ]
     },
     "metadata": {},
     "output_type": "display_data"
    }
   ],
   "source": [
    "plt.hist(df8.price_per_sqft,rwidth = 0.8)\n",
    "plt.xlabel(\"Price per Square Feet\")\n",
    "plt.ylabel(\"Count\")"
   ]
  },
  {
   "cell_type": "code",
   "execution_count": 711,
   "id": "ef462d0d-ee6c-4a56-9049-c89d30cd44bb",
   "metadata": {
    "ExecuteTime": {
     "end_time": "2024-02-18T20:05:38.744220400Z",
     "start_time": "2024-02-18T20:05:38.648362600Z"
    }
   },
   "outputs": [
    {
     "data": {
      "text/plain": [
       "array([ 4.,  3.,  2.,  5.,  8.,  1.,  6.,  7.,  9., 12., 16., 13.])"
      ]
     },
     "execution_count": 711,
     "metadata": {},
     "output_type": "execute_result"
    }
   ],
   "source": [
    "df8.bath.unique()"
   ]
  },
  {
   "cell_type": "code",
   "execution_count": 712,
   "id": "beb7e442-6aec-461c-8439-3d3fd1b1afc9",
   "metadata": {
    "ExecuteTime": {
     "end_time": "2024-02-18T20:05:38.850225200Z",
     "start_time": "2024-02-18T20:05:38.667927Z"
    }
   },
   "outputs": [
    {
     "data": {
      "text/html": [
       "<div>\n",
       "<style scoped>\n",
       "    .dataframe tbody tr th:only-of-type {\n",
       "        vertical-align: middle;\n",
       "    }\n",
       "\n",
       "    .dataframe tbody tr th {\n",
       "        vertical-align: top;\n",
       "    }\n",
       "\n",
       "    .dataframe thead th {\n",
       "        text-align: right;\n",
       "    }\n",
       "</style>\n",
       "<table border=\"1\" class=\"dataframe\">\n",
       "  <thead>\n",
       "    <tr style=\"text-align: right;\">\n",
       "      <th></th>\n",
       "      <th>location</th>\n",
       "      <th>size</th>\n",
       "      <th>total_sqft</th>\n",
       "      <th>bath</th>\n",
       "      <th>price</th>\n",
       "      <th>Bedrooms</th>\n",
       "      <th>price_per_sqft</th>\n",
       "    </tr>\n",
       "  </thead>\n",
       "  <tbody>\n",
       "    <tr>\n",
       "      <th>5277</th>\n",
       "      <td>Neeladri Nagar</td>\n",
       "      <td>10 BHK</td>\n",
       "      <td>4000.0</td>\n",
       "      <td>12.0</td>\n",
       "      <td>160.0</td>\n",
       "      <td>10</td>\n",
       "      <td>4000.000000</td>\n",
       "    </tr>\n",
       "    <tr>\n",
       "      <th>8486</th>\n",
       "      <td>others</td>\n",
       "      <td>10 BHK</td>\n",
       "      <td>12000.0</td>\n",
       "      <td>12.0</td>\n",
       "      <td>525.0</td>\n",
       "      <td>10</td>\n",
       "      <td>4375.000000</td>\n",
       "    </tr>\n",
       "    <tr>\n",
       "      <th>8575</th>\n",
       "      <td>others</td>\n",
       "      <td>16 BHK</td>\n",
       "      <td>10000.0</td>\n",
       "      <td>16.0</td>\n",
       "      <td>550.0</td>\n",
       "      <td>16</td>\n",
       "      <td>5500.000000</td>\n",
       "    </tr>\n",
       "    <tr>\n",
       "      <th>9308</th>\n",
       "      <td>others</td>\n",
       "      <td>11 BHK</td>\n",
       "      <td>6000.0</td>\n",
       "      <td>12.0</td>\n",
       "      <td>150.0</td>\n",
       "      <td>11</td>\n",
       "      <td>2500.000000</td>\n",
       "    </tr>\n",
       "    <tr>\n",
       "      <th>9639</th>\n",
       "      <td>others</td>\n",
       "      <td>13 BHK</td>\n",
       "      <td>5425.0</td>\n",
       "      <td>13.0</td>\n",
       "      <td>275.0</td>\n",
       "      <td>13</td>\n",
       "      <td>5069.124424</td>\n",
       "    </tr>\n",
       "  </tbody>\n",
       "</table>\n",
       "</div>"
      ],
      "text/plain": [
       "            location    size  total_sqft  bath  price  Bedrooms  \\\n",
       "5277  Neeladri Nagar  10 BHK      4000.0  12.0  160.0        10   \n",
       "8486          others  10 BHK     12000.0  12.0  525.0        10   \n",
       "8575          others  16 BHK     10000.0  16.0  550.0        16   \n",
       "9308          others  11 BHK      6000.0  12.0  150.0        11   \n",
       "9639          others  13 BHK      5425.0  13.0  275.0        13   \n",
       "\n",
       "      price_per_sqft  \n",
       "5277     4000.000000  \n",
       "8486     4375.000000  \n",
       "8575     5500.000000  \n",
       "9308     2500.000000  \n",
       "9639     5069.124424  "
      ]
     },
     "execution_count": 712,
     "metadata": {},
     "output_type": "execute_result"
    }
   ],
   "source": [
    "df8[df8.bath > 10 ]"
   ]
  },
  {
   "cell_type": "code",
   "execution_count": 713,
   "id": "3e51cb93-0ac8-4d5d-beed-09a26c63d02d",
   "metadata": {
    "ExecuteTime": {
     "end_time": "2024-02-18T20:05:39.306490400Z",
     "start_time": "2024-02-18T20:05:38.711220700Z"
    }
   },
   "outputs": [
    {
     "data": {
      "text/plain": [
       "Text(0, 0.5, 'Count')"
      ]
     },
     "execution_count": 713,
     "metadata": {},
     "output_type": "execute_result"
    },
    {
     "data": {
      "image/png": "[encoded data removed]",
      "text/plain": [
       "<Figure size 1500x1000 with 1 Axes>"
      ]
     },
     "metadata": {},
     "output_type": "display_data"
    }
   ],
   "source": [
    "plt.hist(df8.bath,rwidth = 0.8)\n",
    "plt.xlabel(\"Number of bathrooms\")\n",
    "plt.ylabel(\"Count\")\n"
   ]
  },
  {
   "cell_type": "markdown",
   "id": "3701b34e-a031-48ee-8654-3629a33cd604",
   "metadata": {},
   "source": [
    "its also unusual that number of bath rooms is greater than number of rooms + 2 , so these can be considered as outliers\n",
    "some outliers depend on the country, the opinion of the customer etc"
   ]
  },
  {
   "cell_type": "code",
   "execution_count": 714,
   "id": "a4e0a805-19ae-4f79-81a8-10a821b359c8",
   "metadata": {
    "ExecuteTime": {
     "end_time": "2024-02-18T20:05:39.459943500Z",
     "start_time": "2024-02-18T20:05:39.207435Z"
    }
   },
   "outputs": [
    {
     "data": {
      "text/html": [
       "<div>\n",
       "<style scoped>\n",
       "    .dataframe tbody tr th:only-of-type {\n",
       "        vertical-align: middle;\n",
       "    }\n",
       "\n",
       "    .dataframe tbody tr th {\n",
       "        vertical-align: top;\n",
       "    }\n",
       "\n",
       "    .dataframe thead th {\n",
       "        text-align: right;\n",
       "    }\n",
       "</style>\n",
       "<table border=\"1\" class=\"dataframe\">\n",
       "  <thead>\n",
       "    <tr style=\"text-align: right;\">\n",
       "      <th></th>\n",
       "      <th>location</th>\n",
       "      <th>size</th>\n",
       "      <th>total_sqft</th>\n",
       "      <th>bath</th>\n",
       "      <th>price</th>\n",
       "      <th>Bedrooms</th>\n",
       "      <th>price_per_sqft</th>\n",
       "    </tr>\n",
       "  </thead>\n",
       "  <tbody>\n",
       "    <tr>\n",
       "      <th>1626</th>\n",
       "      <td>Chikkabanavar</td>\n",
       "      <td>4 Bedroom</td>\n",
       "      <td>2460.0</td>\n",
       "      <td>7.0</td>\n",
       "      <td>80.0</td>\n",
       "      <td>4</td>\n",
       "      <td>3252.032520</td>\n",
       "    </tr>\n",
       "    <tr>\n",
       "      <th>5238</th>\n",
       "      <td>Nagasandra</td>\n",
       "      <td>4 Bedroom</td>\n",
       "      <td>7000.0</td>\n",
       "      <td>8.0</td>\n",
       "      <td>450.0</td>\n",
       "      <td>4</td>\n",
       "      <td>6428.571429</td>\n",
       "    </tr>\n",
       "    <tr>\n",
       "      <th>6711</th>\n",
       "      <td>Thanisandra</td>\n",
       "      <td>3 BHK</td>\n",
       "      <td>1806.0</td>\n",
       "      <td>6.0</td>\n",
       "      <td>116.0</td>\n",
       "      <td>3</td>\n",
       "      <td>6423.034330</td>\n",
       "    </tr>\n",
       "    <tr>\n",
       "      <th>8411</th>\n",
       "      <td>others</td>\n",
       "      <td>6 BHK</td>\n",
       "      <td>11338.0</td>\n",
       "      <td>9.0</td>\n",
       "      <td>1000.0</td>\n",
       "      <td>6</td>\n",
       "      <td>8819.897689</td>\n",
       "    </tr>\n",
       "  </tbody>\n",
       "</table>\n",
       "</div>"
      ],
      "text/plain": [
       "           location       size  total_sqft  bath   price  Bedrooms  \\\n",
       "1626  Chikkabanavar  4 Bedroom      2460.0   7.0    80.0         4   \n",
       "5238     Nagasandra  4 Bedroom      7000.0   8.0   450.0         4   \n",
       "6711    Thanisandra      3 BHK      1806.0   6.0   116.0         3   \n",
       "8411         others      6 BHK     11338.0   9.0  1000.0         6   \n",
       "\n",
       "      price_per_sqft  \n",
       "1626     3252.032520  \n",
       "5238     6428.571429  \n",
       "6711     6423.034330  \n",
       "8411     8819.897689  "
      ]
     },
     "execution_count": 714,
     "metadata": {},
     "output_type": "execute_result"
    }
   ],
   "source": [
    "df8[df8.bath > df8.Bedrooms + 2]\n"
   ]
  },
  {
   "cell_type": "code",
   "execution_count": 715,
   "id": "02435278-2555-4aba-bf07-dfea094683cb",
   "metadata": {
    "ExecuteTime": {
     "end_time": "2024-02-18T20:05:39.501039200Z",
     "start_time": "2024-02-18T20:05:39.253477400Z"
    }
   },
   "outputs": [],
   "source": [
    "df9 = df8[df8.bath < df8.Bedrooms + 2]"
   ]
  },
  {
   "cell_type": "code",
   "execution_count": 716,
   "id": "ee025d71-cabd-4668-be3c-d27995bc2b73",
   "metadata": {
    "ExecuteTime": {
     "end_time": "2024-02-18T20:05:39.561121400Z",
     "start_time": "2024-02-18T20:05:39.269546800Z"
    }
   },
   "outputs": [
    {
     "data": {
      "text/plain": [
       "(7230, 7)"
      ]
     },
     "execution_count": 716,
     "metadata": {},
     "output_type": "execute_result"
    }
   ],
   "source": [
    "df9.shape\n"
   ]
  },
  {
   "cell_type": "markdown",
   "id": "31dfdf15-5c07-412e-888e-67844b2debea",
   "metadata": {},
   "source": [
    "Now, our data is much neat and clean, so now we can start preparing it for machine learning training, and for that we are going to \n",
    "delete unnecessary features. size feature can be deleted because we already have the bedrooms feature that contain the same info \n",
    "same for price_per_sqft , since we have the total_sqft, we use this feature only for outlier detection\n"
   ]
  },
  {
   "cell_type": "code",
   "execution_count": 717,
   "id": "cbcfe612-b813-42b2-a2b4-112a17def6d7",
   "metadata": {
    "ExecuteTime": {
     "end_time": "2024-02-18T20:05:39.630135900Z",
     "start_time": "2024-02-18T20:05:39.310487Z"
    }
   },
   "outputs": [],
   "source": [
    "df10 = df9.drop(['price_per_sqft','size'], axis = 'columns')"
   ]
  },
  {
   "cell_type": "code",
   "execution_count": 718,
   "id": "d5bc2d39-2ff1-4a5b-bb7a-bddf227e3fce",
   "metadata": {
    "ExecuteTime": {
     "end_time": "2024-02-18T20:05:39.640219Z",
     "start_time": "2024-02-18T20:05:39.337625100Z"
    }
   },
   "outputs": [
    {
     "data": {
      "text/html": [
       "<div>\n",
       "<style scoped>\n",
       "    .dataframe tbody tr th:only-of-type {\n",
       "        vertical-align: middle;\n",
       "    }\n",
       "\n",
       "    .dataframe tbody tr th {\n",
       "        vertical-align: top;\n",
       "    }\n",
       "\n",
       "    .dataframe thead th {\n",
       "        text-align: right;\n",
       "    }\n",
       "</style>\n",
       "<table border=\"1\" class=\"dataframe\">\n",
       "  <thead>\n",
       "    <tr style=\"text-align: right;\">\n",
       "      <th></th>\n",
       "      <th>location</th>\n",
       "      <th>total_sqft</th>\n",
       "      <th>bath</th>\n",
       "      <th>price</th>\n",
       "      <th>Bedrooms</th>\n",
       "    </tr>\n",
       "  </thead>\n",
       "  <tbody>\n",
       "    <tr>\n",
       "      <th>0</th>\n",
       "      <td>1st Block Jayanagar</td>\n",
       "      <td>2850.0</td>\n",
       "      <td>4.0</td>\n",
       "      <td>428.0</td>\n",
       "      <td>4</td>\n",
       "    </tr>\n",
       "    <tr>\n",
       "      <th>1</th>\n",
       "      <td>1st Block Jayanagar</td>\n",
       "      <td>1630.0</td>\n",
       "      <td>3.0</td>\n",
       "      <td>194.0</td>\n",
       "      <td>3</td>\n",
       "    </tr>\n",
       "    <tr>\n",
       "      <th>2</th>\n",
       "      <td>1st Block Jayanagar</td>\n",
       "      <td>1875.0</td>\n",
       "      <td>2.0</td>\n",
       "      <td>235.0</td>\n",
       "      <td>3</td>\n",
       "    </tr>\n",
       "    <tr>\n",
       "      <th>3</th>\n",
       "      <td>1st Block Jayanagar</td>\n",
       "      <td>1200.0</td>\n",
       "      <td>2.0</td>\n",
       "      <td>130.0</td>\n",
       "      <td>3</td>\n",
       "    </tr>\n",
       "    <tr>\n",
       "      <th>4</th>\n",
       "      <td>1st Block Jayanagar</td>\n",
       "      <td>1235.0</td>\n",
       "      <td>2.0</td>\n",
       "      <td>148.0</td>\n",
       "      <td>2</td>\n",
       "    </tr>\n",
       "    <tr>\n",
       "      <th>5</th>\n",
       "      <td>1st Block Jayanagar</td>\n",
       "      <td>2750.0</td>\n",
       "      <td>4.0</td>\n",
       "      <td>413.0</td>\n",
       "      <td>4</td>\n",
       "    </tr>\n",
       "    <tr>\n",
       "      <th>6</th>\n",
       "      <td>1st Block Jayanagar</td>\n",
       "      <td>2450.0</td>\n",
       "      <td>4.0</td>\n",
       "      <td>368.0</td>\n",
       "      <td>4</td>\n",
       "    </tr>\n",
       "    <tr>\n",
       "      <th>8</th>\n",
       "      <td>1st Phase JP Nagar</td>\n",
       "      <td>1875.0</td>\n",
       "      <td>3.0</td>\n",
       "      <td>167.0</td>\n",
       "      <td>3</td>\n",
       "    </tr>\n",
       "    <tr>\n",
       "      <th>9</th>\n",
       "      <td>1st Phase JP Nagar</td>\n",
       "      <td>1500.0</td>\n",
       "      <td>5.0</td>\n",
       "      <td>85.0</td>\n",
       "      <td>5</td>\n",
       "    </tr>\n",
       "    <tr>\n",
       "      <th>10</th>\n",
       "      <td>1st Phase JP Nagar</td>\n",
       "      <td>2065.0</td>\n",
       "      <td>4.0</td>\n",
       "      <td>210.0</td>\n",
       "      <td>3</td>\n",
       "    </tr>\n",
       "    <tr>\n",
       "      <th>12</th>\n",
       "      <td>1st Phase JP Nagar</td>\n",
       "      <td>2059.0</td>\n",
       "      <td>3.0</td>\n",
       "      <td>225.0</td>\n",
       "      <td>3</td>\n",
       "    </tr>\n",
       "    <tr>\n",
       "      <th>13</th>\n",
       "      <td>1st Phase JP Nagar</td>\n",
       "      <td>1394.0</td>\n",
       "      <td>2.0</td>\n",
       "      <td>100.0</td>\n",
       "      <td>2</td>\n",
       "    </tr>\n",
       "    <tr>\n",
       "      <th>14</th>\n",
       "      <td>1st Phase JP Nagar</td>\n",
       "      <td>1077.0</td>\n",
       "      <td>2.0</td>\n",
       "      <td>93.0</td>\n",
       "      <td>2</td>\n",
       "    </tr>\n",
       "    <tr>\n",
       "      <th>15</th>\n",
       "      <td>1st Phase JP Nagar</td>\n",
       "      <td>1566.0</td>\n",
       "      <td>2.0</td>\n",
       "      <td>180.0</td>\n",
       "      <td>2</td>\n",
       "    </tr>\n",
       "    <tr>\n",
       "      <th>16</th>\n",
       "      <td>1st Phase JP Nagar</td>\n",
       "      <td>840.0</td>\n",
       "      <td>2.0</td>\n",
       "      <td>50.0</td>\n",
       "      <td>1</td>\n",
       "    </tr>\n",
       "    <tr>\n",
       "      <th>17</th>\n",
       "      <td>1st Phase JP Nagar</td>\n",
       "      <td>1590.0</td>\n",
       "      <td>3.0</td>\n",
       "      <td>131.0</td>\n",
       "      <td>3</td>\n",
       "    </tr>\n",
       "    <tr>\n",
       "      <th>18</th>\n",
       "      <td>1st Phase JP Nagar</td>\n",
       "      <td>2180.0</td>\n",
       "      <td>3.0</td>\n",
       "      <td>210.0</td>\n",
       "      <td>3</td>\n",
       "    </tr>\n",
       "    <tr>\n",
       "      <th>19</th>\n",
       "      <td>1st Phase JP Nagar</td>\n",
       "      <td>1180.0</td>\n",
       "      <td>2.0</td>\n",
       "      <td>88.5</td>\n",
       "      <td>2</td>\n",
       "    </tr>\n",
       "    <tr>\n",
       "      <th>20</th>\n",
       "      <td>1st Phase JP Nagar</td>\n",
       "      <td>1200.0</td>\n",
       "      <td>2.0</td>\n",
       "      <td>86.0</td>\n",
       "      <td>2</td>\n",
       "    </tr>\n",
       "    <tr>\n",
       "      <th>21</th>\n",
       "      <td>1st Phase JP Nagar</td>\n",
       "      <td>1394.0</td>\n",
       "      <td>2.0</td>\n",
       "      <td>85.0</td>\n",
       "      <td>2</td>\n",
       "    </tr>\n",
       "  </tbody>\n",
       "</table>\n",
       "</div>"
      ],
      "text/plain": [
       "               location  total_sqft  bath  price  Bedrooms\n",
       "0   1st Block Jayanagar      2850.0   4.0  428.0         4\n",
       "1   1st Block Jayanagar      1630.0   3.0  194.0         3\n",
       "2   1st Block Jayanagar      1875.0   2.0  235.0         3\n",
       "3   1st Block Jayanagar      1200.0   2.0  130.0         3\n",
       "4   1st Block Jayanagar      1235.0   2.0  148.0         2\n",
       "5   1st Block Jayanagar      2750.0   4.0  413.0         4\n",
       "6   1st Block Jayanagar      2450.0   4.0  368.0         4\n",
       "8    1st Phase JP Nagar      1875.0   3.0  167.0         3\n",
       "9    1st Phase JP Nagar      1500.0   5.0   85.0         5\n",
       "10   1st Phase JP Nagar      2065.0   4.0  210.0         3\n",
       "12   1st Phase JP Nagar      2059.0   3.0  225.0         3\n",
       "13   1st Phase JP Nagar      1394.0   2.0  100.0         2\n",
       "14   1st Phase JP Nagar      1077.0   2.0   93.0         2\n",
       "15   1st Phase JP Nagar      1566.0   2.0  180.0         2\n",
       "16   1st Phase JP Nagar       840.0   2.0   50.0         1\n",
       "17   1st Phase JP Nagar      1590.0   3.0  131.0         3\n",
       "18   1st Phase JP Nagar      2180.0   3.0  210.0         3\n",
       "19   1st Phase JP Nagar      1180.0   2.0   88.5         2\n",
       "20   1st Phase JP Nagar      1200.0   2.0   86.0         2\n",
       "21   1st Phase JP Nagar      1394.0   2.0   85.0         2"
      ]
     },
     "execution_count": 718,
     "metadata": {},
     "output_type": "execute_result"
    }
   ],
   "source": [
    "df10.head(20)\n"
   ]
  },
  {
   "cell_type": "code",
   "execution_count": 719,
   "id": "f475d68a-810e-45bf-b301-3f62b85b3381",
   "metadata": {
    "ExecuteTime": {
     "end_time": "2024-02-18T20:05:39.857381200Z",
     "start_time": "2024-02-18T20:05:39.373623Z"
    }
   },
   "outputs": [
    {
     "data": {
      "text/html": [
       "<div>\n",
       "<style scoped>\n",
       "    .dataframe tbody tr th:only-of-type {\n",
       "        vertical-align: middle;\n",
       "    }\n",
       "\n",
       "    .dataframe tbody tr th {\n",
       "        vertical-align: top;\n",
       "    }\n",
       "\n",
       "    .dataframe thead th {\n",
       "        text-align: right;\n",
       "    }\n",
       "</style>\n",
       "<table border=\"1\" class=\"dataframe\">\n",
       "  <thead>\n",
       "    <tr style=\"text-align: right;\">\n",
       "      <th></th>\n",
       "      <th>location</th>\n",
       "      <th>total_sqft</th>\n",
       "      <th>bath</th>\n",
       "      <th>price</th>\n",
       "      <th>Bedrooms</th>\n",
       "    </tr>\n",
       "  </thead>\n",
       "  <tbody>\n",
       "    <tr>\n",
       "      <th>0</th>\n",
       "      <td>1st Block Jayanagar</td>\n",
       "      <td>2850.0</td>\n",
       "      <td>4.0</td>\n",
       "      <td>428.0</td>\n",
       "      <td>4</td>\n",
       "    </tr>\n",
       "    <tr>\n",
       "      <th>1</th>\n",
       "      <td>1st Block Jayanagar</td>\n",
       "      <td>1630.0</td>\n",
       "      <td>3.0</td>\n",
       "      <td>194.0</td>\n",
       "      <td>3</td>\n",
       "    </tr>\n",
       "    <tr>\n",
       "      <th>2</th>\n",
       "      <td>1st Block Jayanagar</td>\n",
       "      <td>1875.0</td>\n",
       "      <td>2.0</td>\n",
       "      <td>235.0</td>\n",
       "      <td>3</td>\n",
       "    </tr>\n",
       "    <tr>\n",
       "      <th>3</th>\n",
       "      <td>1st Block Jayanagar</td>\n",
       "      <td>1200.0</td>\n",
       "      <td>2.0</td>\n",
       "      <td>130.0</td>\n",
       "      <td>3</td>\n",
       "    </tr>\n",
       "    <tr>\n",
       "      <th>4</th>\n",
       "      <td>1st Block Jayanagar</td>\n",
       "      <td>1235.0</td>\n",
       "      <td>2.0</td>\n",
       "      <td>148.0</td>\n",
       "      <td>2</td>\n",
       "    </tr>\n",
       "    <tr>\n",
       "      <th>...</th>\n",
       "      <td>...</td>\n",
       "      <td>...</td>\n",
       "      <td>...</td>\n",
       "      <td>...</td>\n",
       "      <td>...</td>\n",
       "    </tr>\n",
       "    <tr>\n",
       "      <th>10232</th>\n",
       "      <td>others</td>\n",
       "      <td>1200.0</td>\n",
       "      <td>2.0</td>\n",
       "      <td>70.0</td>\n",
       "      <td>2</td>\n",
       "    </tr>\n",
       "    <tr>\n",
       "      <th>10233</th>\n",
       "      <td>others</td>\n",
       "      <td>1800.0</td>\n",
       "      <td>1.0</td>\n",
       "      <td>200.0</td>\n",
       "      <td>1</td>\n",
       "    </tr>\n",
       "    <tr>\n",
       "      <th>10236</th>\n",
       "      <td>others</td>\n",
       "      <td>1353.0</td>\n",
       "      <td>2.0</td>\n",
       "      <td>110.0</td>\n",
       "      <td>2</td>\n",
       "    </tr>\n",
       "    <tr>\n",
       "      <th>10237</th>\n",
       "      <td>others</td>\n",
       "      <td>812.0</td>\n",
       "      <td>1.0</td>\n",
       "      <td>26.0</td>\n",
       "      <td>1</td>\n",
       "    </tr>\n",
       "    <tr>\n",
       "      <th>10240</th>\n",
       "      <td>others</td>\n",
       "      <td>3600.0</td>\n",
       "      <td>5.0</td>\n",
       "      <td>400.0</td>\n",
       "      <td>4</td>\n",
       "    </tr>\n",
       "  </tbody>\n",
       "</table>\n",
       "<p>7230 rows × 5 columns</p>\n",
       "</div>"
      ],
      "text/plain": [
       "                  location  total_sqft  bath  price  Bedrooms\n",
       "0      1st Block Jayanagar      2850.0   4.0  428.0         4\n",
       "1      1st Block Jayanagar      1630.0   3.0  194.0         3\n",
       "2      1st Block Jayanagar      1875.0   2.0  235.0         3\n",
       "3      1st Block Jayanagar      1200.0   2.0  130.0         3\n",
       "4      1st Block Jayanagar      1235.0   2.0  148.0         2\n",
       "...                    ...         ...   ...    ...       ...\n",
       "10232               others      1200.0   2.0   70.0         2\n",
       "10233               others      1800.0   1.0  200.0         1\n",
       "10236               others      1353.0   2.0  110.0         2\n",
       "10237               others       812.0   1.0   26.0         1\n",
       "10240               others      3600.0   5.0  400.0         4\n",
       "\n",
       "[7230 rows x 5 columns]"
      ]
     },
     "execution_count": 719,
     "metadata": {},
     "output_type": "execute_result"
    }
   ],
   "source": [
    "df10"
   ]
  },
  {
   "cell_type": "markdown",
   "id": "07d80b7d-c14d-463b-b320-89f4f48d8354",
   "metadata": {},
   "source": [
    "many machine learning models such as linear regression, can't handle categorical features such as location\n",
    "for reason we are going to convert this categorical data(location) to binary value, using one hot encoding \n",
    "we can use this command below to do one hot encoding "
   ]
  },
  {
   "cell_type": "code",
   "execution_count": 720,
   "id": "8e80aa04-3471-4bf4-8718-b9c6af4e70d4",
   "metadata": {
    "ExecuteTime": {
     "end_time": "2024-02-18T20:05:39.961465300Z",
     "start_time": "2024-02-18T20:05:39.406356600Z"
    }
   },
   "outputs": [
    {
     "data": {
      "text/html": [
       "<div>\n",
       "<style scoped>\n",
       "    .dataframe tbody tr th:only-of-type {\n",
       "        vertical-align: middle;\n",
       "    }\n",
       "\n",
       "    .dataframe tbody tr th {\n",
       "        vertical-align: top;\n",
       "    }\n",
       "\n",
       "    .dataframe thead th {\n",
       "        text-align: right;\n",
       "    }\n",
       "</style>\n",
       "<table border=\"1\" class=\"dataframe\">\n",
       "  <thead>\n",
       "    <tr style=\"text-align: right;\">\n",
       "      <th></th>\n",
       "      <th>1st Block Jayanagar</th>\n",
       "      <th>1st Phase JP Nagar</th>\n",
       "      <th>2nd Phase Judicial Layout</th>\n",
       "      <th>2nd Stage Nagarbhavi</th>\n",
       "      <th>5th Block Hbr Layout</th>\n",
       "      <th>5th Phase JP Nagar</th>\n",
       "      <th>6th Phase JP Nagar</th>\n",
       "      <th>7th Phase JP Nagar</th>\n",
       "      <th>8th Phase JP Nagar</th>\n",
       "      <th>9th Phase JP Nagar</th>\n",
       "      <th>...</th>\n",
       "      <th>Vishveshwarya Layout</th>\n",
       "      <th>Vishwapriya Layout</th>\n",
       "      <th>Vittasandra</th>\n",
       "      <th>Whitefield</th>\n",
       "      <th>Yelachenahalli</th>\n",
       "      <th>Yelahanka</th>\n",
       "      <th>Yelahanka New Town</th>\n",
       "      <th>Yelenahalli</th>\n",
       "      <th>Yeshwanthpur</th>\n",
       "      <th>others</th>\n",
       "    </tr>\n",
       "  </thead>\n",
       "  <tbody>\n",
       "    <tr>\n",
       "      <th>0</th>\n",
       "      <td>True</td>\n",
       "      <td>False</td>\n",
       "      <td>False</td>\n",
       "      <td>False</td>\n",
       "      <td>False</td>\n",
       "      <td>False</td>\n",
       "      <td>False</td>\n",
       "      <td>False</td>\n",
       "      <td>False</td>\n",
       "      <td>False</td>\n",
       "      <td>...</td>\n",
       "      <td>False</td>\n",
       "      <td>False</td>\n",
       "      <td>False</td>\n",
       "      <td>False</td>\n",
       "      <td>False</td>\n",
       "      <td>False</td>\n",
       "      <td>False</td>\n",
       "      <td>False</td>\n",
       "      <td>False</td>\n",
       "      <td>False</td>\n",
       "    </tr>\n",
       "    <tr>\n",
       "      <th>1</th>\n",
       "      <td>True</td>\n",
       "      <td>False</td>\n",
       "      <td>False</td>\n",
       "      <td>False</td>\n",
       "      <td>False</td>\n",
       "      <td>False</td>\n",
       "      <td>False</td>\n",
       "      <td>False</td>\n",
       "      <td>False</td>\n",
       "      <td>False</td>\n",
       "      <td>...</td>\n",
       "      <td>False</td>\n",
       "      <td>False</td>\n",
       "      <td>False</td>\n",
       "      <td>False</td>\n",
       "      <td>False</td>\n",
       "      <td>False</td>\n",
       "      <td>False</td>\n",
       "      <td>False</td>\n",
       "      <td>False</td>\n",
       "      <td>False</td>\n",
       "    </tr>\n",
       "    <tr>\n",
       "      <th>2</th>\n",
       "      <td>True</td>\n",
       "      <td>False</td>\n",
       "      <td>False</td>\n",
       "      <td>False</td>\n",
       "      <td>False</td>\n",
       "      <td>False</td>\n",
       "      <td>False</td>\n",
       "      <td>False</td>\n",
       "      <td>False</td>\n",
       "      <td>False</td>\n",
       "      <td>...</td>\n",
       "      <td>False</td>\n",
       "      <td>False</td>\n",
       "      <td>False</td>\n",
       "      <td>False</td>\n",
       "      <td>False</td>\n",
       "      <td>False</td>\n",
       "      <td>False</td>\n",
       "      <td>False</td>\n",
       "      <td>False</td>\n",
       "      <td>False</td>\n",
       "    </tr>\n",
       "    <tr>\n",
       "      <th>3</th>\n",
       "      <td>True</td>\n",
       "      <td>False</td>\n",
       "      <td>False</td>\n",
       "      <td>False</td>\n",
       "      <td>False</td>\n",
       "      <td>False</td>\n",
       "      <td>False</td>\n",
       "      <td>False</td>\n",
       "      <td>False</td>\n",
       "      <td>False</td>\n",
       "      <td>...</td>\n",
       "      <td>False</td>\n",
       "      <td>False</td>\n",
       "      <td>False</td>\n",
       "      <td>False</td>\n",
       "      <td>False</td>\n",
       "      <td>False</td>\n",
       "      <td>False</td>\n",
       "      <td>False</td>\n",
       "      <td>False</td>\n",
       "      <td>False</td>\n",
       "    </tr>\n",
       "    <tr>\n",
       "      <th>4</th>\n",
       "      <td>True</td>\n",
       "      <td>False</td>\n",
       "      <td>False</td>\n",
       "      <td>False</td>\n",
       "      <td>False</td>\n",
       "      <td>False</td>\n",
       "      <td>False</td>\n",
       "      <td>False</td>\n",
       "      <td>False</td>\n",
       "      <td>False</td>\n",
       "      <td>...</td>\n",
       "      <td>False</td>\n",
       "      <td>False</td>\n",
       "      <td>False</td>\n",
       "      <td>False</td>\n",
       "      <td>False</td>\n",
       "      <td>False</td>\n",
       "      <td>False</td>\n",
       "      <td>False</td>\n",
       "      <td>False</td>\n",
       "      <td>False</td>\n",
       "    </tr>\n",
       "    <tr>\n",
       "      <th>5</th>\n",
       "      <td>True</td>\n",
       "      <td>False</td>\n",
       "      <td>False</td>\n",
       "      <td>False</td>\n",
       "      <td>False</td>\n",
       "      <td>False</td>\n",
       "      <td>False</td>\n",
       "      <td>False</td>\n",
       "      <td>False</td>\n",
       "      <td>False</td>\n",
       "      <td>...</td>\n",
       "      <td>False</td>\n",
       "      <td>False</td>\n",
       "      <td>False</td>\n",
       "      <td>False</td>\n",
       "      <td>False</td>\n",
       "      <td>False</td>\n",
       "      <td>False</td>\n",
       "      <td>False</td>\n",
       "      <td>False</td>\n",
       "      <td>False</td>\n",
       "    </tr>\n",
       "    <tr>\n",
       "      <th>6</th>\n",
       "      <td>True</td>\n",
       "      <td>False</td>\n",
       "      <td>False</td>\n",
       "      <td>False</td>\n",
       "      <td>False</td>\n",
       "      <td>False</td>\n",
       "      <td>False</td>\n",
       "      <td>False</td>\n",
       "      <td>False</td>\n",
       "      <td>False</td>\n",
       "      <td>...</td>\n",
       "      <td>False</td>\n",
       "      <td>False</td>\n",
       "      <td>False</td>\n",
       "      <td>False</td>\n",
       "      <td>False</td>\n",
       "      <td>False</td>\n",
       "      <td>False</td>\n",
       "      <td>False</td>\n",
       "      <td>False</td>\n",
       "      <td>False</td>\n",
       "    </tr>\n",
       "    <tr>\n",
       "      <th>8</th>\n",
       "      <td>False</td>\n",
       "      <td>True</td>\n",
       "      <td>False</td>\n",
       "      <td>False</td>\n",
       "      <td>False</td>\n",
       "      <td>False</td>\n",
       "      <td>False</td>\n",
       "      <td>False</td>\n",
       "      <td>False</td>\n",
       "      <td>False</td>\n",
       "      <td>...</td>\n",
       "      <td>False</td>\n",
       "      <td>False</td>\n",
       "      <td>False</td>\n",
       "      <td>False</td>\n",
       "      <td>False</td>\n",
       "      <td>False</td>\n",
       "      <td>False</td>\n",
       "      <td>False</td>\n",
       "      <td>False</td>\n",
       "      <td>False</td>\n",
       "    </tr>\n",
       "    <tr>\n",
       "      <th>9</th>\n",
       "      <td>False</td>\n",
       "      <td>True</td>\n",
       "      <td>False</td>\n",
       "      <td>False</td>\n",
       "      <td>False</td>\n",
       "      <td>False</td>\n",
       "      <td>False</td>\n",
       "      <td>False</td>\n",
       "      <td>False</td>\n",
       "      <td>False</td>\n",
       "      <td>...</td>\n",
       "      <td>False</td>\n",
       "      <td>False</td>\n",
       "      <td>False</td>\n",
       "      <td>False</td>\n",
       "      <td>False</td>\n",
       "      <td>False</td>\n",
       "      <td>False</td>\n",
       "      <td>False</td>\n",
       "      <td>False</td>\n",
       "      <td>False</td>\n",
       "    </tr>\n",
       "    <tr>\n",
       "      <th>10</th>\n",
       "      <td>False</td>\n",
       "      <td>True</td>\n",
       "      <td>False</td>\n",
       "      <td>False</td>\n",
       "      <td>False</td>\n",
       "      <td>False</td>\n",
       "      <td>False</td>\n",
       "      <td>False</td>\n",
       "      <td>False</td>\n",
       "      <td>False</td>\n",
       "      <td>...</td>\n",
       "      <td>False</td>\n",
       "      <td>False</td>\n",
       "      <td>False</td>\n",
       "      <td>False</td>\n",
       "      <td>False</td>\n",
       "      <td>False</td>\n",
       "      <td>False</td>\n",
       "      <td>False</td>\n",
       "      <td>False</td>\n",
       "      <td>False</td>\n",
       "    </tr>\n",
       "  </tbody>\n",
       "</table>\n",
       "<p>10 rows × 242 columns</p>\n",
       "</div>"
      ],
      "text/plain": [
       "    1st Block Jayanagar  1st Phase JP Nagar  2nd Phase Judicial Layout  \\\n",
       "0                  True               False                      False   \n",
       "1                  True               False                      False   \n",
       "2                  True               False                      False   \n",
       "3                  True               False                      False   \n",
       "4                  True               False                      False   \n",
       "5                  True               False                      False   \n",
       "6                  True               False                      False   \n",
       "8                 False                True                      False   \n",
       "9                 False                True                      False   \n",
       "10                False                True                      False   \n",
       "\n",
       "    2nd Stage Nagarbhavi  5th Block Hbr Layout  5th Phase JP Nagar  \\\n",
       "0                  False                 False               False   \n",
       "1                  False                 False               False   \n",
       "2                  False                 False               False   \n",
       "3                  False                 False               False   \n",
       "4                  False                 False               False   \n",
       "5                  False                 False               False   \n",
       "6                  False                 False               False   \n",
       "8                  False                 False               False   \n",
       "9                  False                 False               False   \n",
       "10                 False                 False               False   \n",
       "\n",
       "    6th Phase JP Nagar  7th Phase JP Nagar  8th Phase JP Nagar  \\\n",
       "0                False               False               False   \n",
       "1                False               False               False   \n",
       "2                False               False               False   \n",
       "3                False               False               False   \n",
       "4                False               False               False   \n",
       "5                False               False               False   \n",
       "6                False               False               False   \n",
       "8                False               False               False   \n",
       "9                False               False               False   \n",
       "10               False               False               False   \n",
       "\n",
       "    9th Phase JP Nagar  ...  Vishveshwarya Layout  Vishwapriya Layout  \\\n",
       "0                False  ...                 False               False   \n",
       "1                False  ...                 False               False   \n",
       "2                False  ...                 False               False   \n",
       "3                False  ...                 False               False   \n",
       "4                False  ...                 False               False   \n",
       "5                False  ...                 False               False   \n",
       "6                False  ...                 False               False   \n",
       "8                False  ...                 False               False   \n",
       "9                False  ...                 False               False   \n",
       "10               False  ...                 False               False   \n",
       "\n",
       "    Vittasandra  Whitefield  Yelachenahalli  Yelahanka  Yelahanka New Town  \\\n",
       "0         False       False           False      False               False   \n",
       "1         False       False           False      False               False   \n",
       "2         False       False           False      False               False   \n",
       "3         False       False           False      False               False   \n",
       "4         False       False           False      False               False   \n",
       "5         False       False           False      False               False   \n",
       "6         False       False           False      False               False   \n",
       "8         False       False           False      False               False   \n",
       "9         False       False           False      False               False   \n",
       "10        False       False           False      False               False   \n",
       "\n",
       "    Yelenahalli  Yeshwanthpur  others  \n",
       "0         False         False   False  \n",
       "1         False         False   False  \n",
       "2         False         False   False  \n",
       "3         False         False   False  \n",
       "4         False         False   False  \n",
       "5         False         False   False  \n",
       "6         False         False   False  \n",
       "8         False         False   False  \n",
       "9         False         False   False  \n",
       "10        False         False   False  \n",
       "\n",
       "[10 rows x 242 columns]"
      ]
     },
     "execution_count": 720,
     "metadata": {},
     "output_type": "execute_result"
    }
   ],
   "source": [
    "dummies = pd.get_dummies(df10.location)\n",
    "dummies.head(10)"
   ]
  },
  {
   "cell_type": "code",
   "execution_count": 721,
   "id": "7afbec24-c54e-471b-97a8-e9b0bdd9e7cf",
   "metadata": {
    "ExecuteTime": {
     "end_time": "2024-02-18T20:05:39.993464800Z",
     "start_time": "2024-02-18T20:05:39.484040200Z"
    }
   },
   "outputs": [],
   "source": [
    "df11 = pd.concat([df10,dummies],axis = \"columns\")"
   ]
  },
  {
   "cell_type": "code",
   "execution_count": 722,
   "id": "5c6d3420-322b-4a58-999d-7174c0514ad3",
   "metadata": {
    "ExecuteTime": {
     "end_time": "2024-02-18T20:05:40.051557Z",
     "start_time": "2024-02-18T20:05:39.513038400Z"
    }
   },
   "outputs": [
    {
     "data": {
      "text/html": [
       "<div>\n",
       "<style scoped>\n",
       "    .dataframe tbody tr th:only-of-type {\n",
       "        vertical-align: middle;\n",
       "    }\n",
       "\n",
       "    .dataframe tbody tr th {\n",
       "        vertical-align: top;\n",
       "    }\n",
       "\n",
       "    .dataframe thead th {\n",
       "        text-align: right;\n",
       "    }\n",
       "</style>\n",
       "<table border=\"1\" class=\"dataframe\">\n",
       "  <thead>\n",
       "    <tr style=\"text-align: right;\">\n",
       "      <th></th>\n",
       "      <th>location</th>\n",
       "      <th>total_sqft</th>\n",
       "      <th>bath</th>\n",
       "      <th>price</th>\n",
       "      <th>Bedrooms</th>\n",
       "      <th>1st Block Jayanagar</th>\n",
       "      <th>1st Phase JP Nagar</th>\n",
       "      <th>2nd Phase Judicial Layout</th>\n",
       "      <th>2nd Stage Nagarbhavi</th>\n",
       "      <th>5th Block Hbr Layout</th>\n",
       "      <th>...</th>\n",
       "      <th>Vishveshwarya Layout</th>\n",
       "      <th>Vishwapriya Layout</th>\n",
       "      <th>Vittasandra</th>\n",
       "      <th>Whitefield</th>\n",
       "      <th>Yelachenahalli</th>\n",
       "      <th>Yelahanka</th>\n",
       "      <th>Yelahanka New Town</th>\n",
       "      <th>Yelenahalli</th>\n",
       "      <th>Yeshwanthpur</th>\n",
       "      <th>others</th>\n",
       "    </tr>\n",
       "  </thead>\n",
       "  <tbody>\n",
       "    <tr>\n",
       "      <th>0</th>\n",
       "      <td>1st Block Jayanagar</td>\n",
       "      <td>2850.0</td>\n",
       "      <td>4.0</td>\n",
       "      <td>428.0</td>\n",
       "      <td>4</td>\n",
       "      <td>True</td>\n",
       "      <td>False</td>\n",
       "      <td>False</td>\n",
       "      <td>False</td>\n",
       "      <td>False</td>\n",
       "      <td>...</td>\n",
       "      <td>False</td>\n",
       "      <td>False</td>\n",
       "      <td>False</td>\n",
       "      <td>False</td>\n",
       "      <td>False</td>\n",
       "      <td>False</td>\n",
       "      <td>False</td>\n",
       "      <td>False</td>\n",
       "      <td>False</td>\n",
       "      <td>False</td>\n",
       "    </tr>\n",
       "    <tr>\n",
       "      <th>1</th>\n",
       "      <td>1st Block Jayanagar</td>\n",
       "      <td>1630.0</td>\n",
       "      <td>3.0</td>\n",
       "      <td>194.0</td>\n",
       "      <td>3</td>\n",
       "      <td>True</td>\n",
       "      <td>False</td>\n",
       "      <td>False</td>\n",
       "      <td>False</td>\n",
       "      <td>False</td>\n",
       "      <td>...</td>\n",
       "      <td>False</td>\n",
       "      <td>False</td>\n",
       "      <td>False</td>\n",
       "      <td>False</td>\n",
       "      <td>False</td>\n",
       "      <td>False</td>\n",
       "      <td>False</td>\n",
       "      <td>False</td>\n",
       "      <td>False</td>\n",
       "      <td>False</td>\n",
       "    </tr>\n",
       "    <tr>\n",
       "      <th>2</th>\n",
       "      <td>1st Block Jayanagar</td>\n",
       "      <td>1875.0</td>\n",
       "      <td>2.0</td>\n",
       "      <td>235.0</td>\n",
       "      <td>3</td>\n",
       "      <td>True</td>\n",
       "      <td>False</td>\n",
       "      <td>False</td>\n",
       "      <td>False</td>\n",
       "      <td>False</td>\n",
       "      <td>...</td>\n",
       "      <td>False</td>\n",
       "      <td>False</td>\n",
       "      <td>False</td>\n",
       "      <td>False</td>\n",
       "      <td>False</td>\n",
       "      <td>False</td>\n",
       "      <td>False</td>\n",
       "      <td>False</td>\n",
       "      <td>False</td>\n",
       "      <td>False</td>\n",
       "    </tr>\n",
       "    <tr>\n",
       "      <th>3</th>\n",
       "      <td>1st Block Jayanagar</td>\n",
       "      <td>1200.0</td>\n",
       "      <td>2.0</td>\n",
       "      <td>130.0</td>\n",
       "      <td>3</td>\n",
       "      <td>True</td>\n",
       "      <td>False</td>\n",
       "      <td>False</td>\n",
       "      <td>False</td>\n",
       "      <td>False</td>\n",
       "      <td>...</td>\n",
       "      <td>False</td>\n",
       "      <td>False</td>\n",
       "      <td>False</td>\n",
       "      <td>False</td>\n",
       "      <td>False</td>\n",
       "      <td>False</td>\n",
       "      <td>False</td>\n",
       "      <td>False</td>\n",
       "      <td>False</td>\n",
       "      <td>False</td>\n",
       "    </tr>\n",
       "    <tr>\n",
       "      <th>4</th>\n",
       "      <td>1st Block Jayanagar</td>\n",
       "      <td>1235.0</td>\n",
       "      <td>2.0</td>\n",
       "      <td>148.0</td>\n",
       "      <td>2</td>\n",
       "      <td>True</td>\n",
       "      <td>False</td>\n",
       "      <td>False</td>\n",
       "      <td>False</td>\n",
       "      <td>False</td>\n",
       "      <td>...</td>\n",
       "      <td>False</td>\n",
       "      <td>False</td>\n",
       "      <td>False</td>\n",
       "      <td>False</td>\n",
       "      <td>False</td>\n",
       "      <td>False</td>\n",
       "      <td>False</td>\n",
       "      <td>False</td>\n",
       "      <td>False</td>\n",
       "      <td>False</td>\n",
       "    </tr>\n",
       "    <tr>\n",
       "      <th>5</th>\n",
       "      <td>1st Block Jayanagar</td>\n",
       "      <td>2750.0</td>\n",
       "      <td>4.0</td>\n",
       "      <td>413.0</td>\n",
       "      <td>4</td>\n",
       "      <td>True</td>\n",
       "      <td>False</td>\n",
       "      <td>False</td>\n",
       "      <td>False</td>\n",
       "      <td>False</td>\n",
       "      <td>...</td>\n",
       "      <td>False</td>\n",
       "      <td>False</td>\n",
       "      <td>False</td>\n",
       "      <td>False</td>\n",
       "      <td>False</td>\n",
       "      <td>False</td>\n",
       "      <td>False</td>\n",
       "      <td>False</td>\n",
       "      <td>False</td>\n",
       "      <td>False</td>\n",
       "    </tr>\n",
       "    <tr>\n",
       "      <th>6</th>\n",
       "      <td>1st Block Jayanagar</td>\n",
       "      <td>2450.0</td>\n",
       "      <td>4.0</td>\n",
       "      <td>368.0</td>\n",
       "      <td>4</td>\n",
       "      <td>True</td>\n",
       "      <td>False</td>\n",
       "      <td>False</td>\n",
       "      <td>False</td>\n",
       "      <td>False</td>\n",
       "      <td>...</td>\n",
       "      <td>False</td>\n",
       "      <td>False</td>\n",
       "      <td>False</td>\n",
       "      <td>False</td>\n",
       "      <td>False</td>\n",
       "      <td>False</td>\n",
       "      <td>False</td>\n",
       "      <td>False</td>\n",
       "      <td>False</td>\n",
       "      <td>False</td>\n",
       "    </tr>\n",
       "    <tr>\n",
       "      <th>8</th>\n",
       "      <td>1st Phase JP Nagar</td>\n",
       "      <td>1875.0</td>\n",
       "      <td>3.0</td>\n",
       "      <td>167.0</td>\n",
       "      <td>3</td>\n",
       "      <td>False</td>\n",
       "      <td>True</td>\n",
       "      <td>False</td>\n",
       "      <td>False</td>\n",
       "      <td>False</td>\n",
       "      <td>...</td>\n",
       "      <td>False</td>\n",
       "      <td>False</td>\n",
       "      <td>False</td>\n",
       "      <td>False</td>\n",
       "      <td>False</td>\n",
       "      <td>False</td>\n",
       "      <td>False</td>\n",
       "      <td>False</td>\n",
       "      <td>False</td>\n",
       "      <td>False</td>\n",
       "    </tr>\n",
       "    <tr>\n",
       "      <th>9</th>\n",
       "      <td>1st Phase JP Nagar</td>\n",
       "      <td>1500.0</td>\n",
       "      <td>5.0</td>\n",
       "      <td>85.0</td>\n",
       "      <td>5</td>\n",
       "      <td>False</td>\n",
       "      <td>True</td>\n",
       "      <td>False</td>\n",
       "      <td>False</td>\n",
       "      <td>False</td>\n",
       "      <td>...</td>\n",
       "      <td>False</td>\n",
       "      <td>False</td>\n",
       "      <td>False</td>\n",
       "      <td>False</td>\n",
       "      <td>False</td>\n",
       "      <td>False</td>\n",
       "      <td>False</td>\n",
       "      <td>False</td>\n",
       "      <td>False</td>\n",
       "      <td>False</td>\n",
       "    </tr>\n",
       "    <tr>\n",
       "      <th>10</th>\n",
       "      <td>1st Phase JP Nagar</td>\n",
       "      <td>2065.0</td>\n",
       "      <td>4.0</td>\n",
       "      <td>210.0</td>\n",
       "      <td>3</td>\n",
       "      <td>False</td>\n",
       "      <td>True</td>\n",
       "      <td>False</td>\n",
       "      <td>False</td>\n",
       "      <td>False</td>\n",
       "      <td>...</td>\n",
       "      <td>False</td>\n",
       "      <td>False</td>\n",
       "      <td>False</td>\n",
       "      <td>False</td>\n",
       "      <td>False</td>\n",
       "      <td>False</td>\n",
       "      <td>False</td>\n",
       "      <td>False</td>\n",
       "      <td>False</td>\n",
       "      <td>False</td>\n",
       "    </tr>\n",
       "  </tbody>\n",
       "</table>\n",
       "<p>10 rows × 247 columns</p>\n",
       "</div>"
      ],
      "text/plain": [
       "               location  total_sqft  bath  price  Bedrooms  \\\n",
       "0   1st Block Jayanagar      2850.0   4.0  428.0         4   \n",
       "1   1st Block Jayanagar      1630.0   3.0  194.0         3   \n",
       "2   1st Block Jayanagar      1875.0   2.0  235.0         3   \n",
       "3   1st Block Jayanagar      1200.0   2.0  130.0         3   \n",
       "4   1st Block Jayanagar      1235.0   2.0  148.0         2   \n",
       "5   1st Block Jayanagar      2750.0   4.0  413.0         4   \n",
       "6   1st Block Jayanagar      2450.0   4.0  368.0         4   \n",
       "8    1st Phase JP Nagar      1875.0   3.0  167.0         3   \n",
       "9    1st Phase JP Nagar      1500.0   5.0   85.0         5   \n",
       "10   1st Phase JP Nagar      2065.0   4.0  210.0         3   \n",
       "\n",
       "    1st Block Jayanagar  1st Phase JP Nagar  2nd Phase Judicial Layout  \\\n",
       "0                  True               False                      False   \n",
       "1                  True               False                      False   \n",
       "2                  True               False                      False   \n",
       "3                  True               False                      False   \n",
       "4                  True               False                      False   \n",
       "5                  True               False                      False   \n",
       "6                  True               False                      False   \n",
       "8                 False                True                      False   \n",
       "9                 False                True                      False   \n",
       "10                False                True                      False   \n",
       "\n",
       "    2nd Stage Nagarbhavi  5th Block Hbr Layout  ...  Vishveshwarya Layout  \\\n",
       "0                  False                 False  ...                 False   \n",
       "1                  False                 False  ...                 False   \n",
       "2                  False                 False  ...                 False   \n",
       "3                  False                 False  ...                 False   \n",
       "4                  False                 False  ...                 False   \n",
       "5                  False                 False  ...                 False   \n",
       "6                  False                 False  ...                 False   \n",
       "8                  False                 False  ...                 False   \n",
       "9                  False                 False  ...                 False   \n",
       "10                 False                 False  ...                 False   \n",
       "\n",
       "    Vishwapriya Layout  Vittasandra  Whitefield  Yelachenahalli  Yelahanka  \\\n",
       "0                False        False       False           False      False   \n",
       "1                False        False       False           False      False   \n",
       "2                False        False       False           False      False   \n",
       "3                False        False       False           False      False   \n",
       "4                False        False       False           False      False   \n",
       "5                False        False       False           False      False   \n",
       "6                False        False       False           False      False   \n",
       "8                False        False       False           False      False   \n",
       "9                False        False       False           False      False   \n",
       "10               False        False       False           False      False   \n",
       "\n",
       "    Yelahanka New Town  Yelenahalli  Yeshwanthpur  others  \n",
       "0                False        False         False   False  \n",
       "1                False        False         False   False  \n",
       "2                False        False         False   False  \n",
       "3                False        False         False   False  \n",
       "4                False        False         False   False  \n",
       "5                False        False         False   False  \n",
       "6                False        False         False   False  \n",
       "8                False        False         False   False  \n",
       "9                False        False         False   False  \n",
       "10               False        False         False   False  \n",
       "\n",
       "[10 rows x 247 columns]"
      ]
     },
     "execution_count": 722,
     "metadata": {},
     "output_type": "execute_result"
    }
   ],
   "source": [
    "df11.head(10)"
   ]
  },
  {
   "cell_type": "markdown",
   "id": "fc31ca7a-86fe-4419-aeb1-3e792ffdfadb",
   "metadata": {},
   "source": [
    "since we have many columns in location, deleting the last column\"other\" will not affect the result "
   ]
  },
  {
   "cell_type": "code",
   "execution_count": 723,
   "id": "50310852-d871-4831-8060-f6db2481d04d",
   "metadata": {
    "ExecuteTime": {
     "end_time": "2024-02-18T20:05:40.095812800Z",
     "start_time": "2024-02-18T20:05:39.572122100Z"
    }
   },
   "outputs": [
    {
     "data": {
      "text/html": [
       "<div>\n",
       "<style scoped>\n",
       "    .dataframe tbody tr th:only-of-type {\n",
       "        vertical-align: middle;\n",
       "    }\n",
       "\n",
       "    .dataframe tbody tr th {\n",
       "        vertical-align: top;\n",
       "    }\n",
       "\n",
       "    .dataframe thead th {\n",
       "        text-align: right;\n",
       "    }\n",
       "</style>\n",
       "<table border=\"1\" class=\"dataframe\">\n",
       "  <thead>\n",
       "    <tr style=\"text-align: right;\">\n",
       "      <th></th>\n",
       "      <th>location</th>\n",
       "      <th>total_sqft</th>\n",
       "      <th>bath</th>\n",
       "      <th>price</th>\n",
       "      <th>Bedrooms</th>\n",
       "      <th>1st Block Jayanagar</th>\n",
       "      <th>1st Phase JP Nagar</th>\n",
       "      <th>2nd Phase Judicial Layout</th>\n",
       "      <th>2nd Stage Nagarbhavi</th>\n",
       "      <th>5th Block Hbr Layout</th>\n",
       "      <th>...</th>\n",
       "      <th>Vijayanagar</th>\n",
       "      <th>Vishveshwarya Layout</th>\n",
       "      <th>Vishwapriya Layout</th>\n",
       "      <th>Vittasandra</th>\n",
       "      <th>Whitefield</th>\n",
       "      <th>Yelachenahalli</th>\n",
       "      <th>Yelahanka</th>\n",
       "      <th>Yelahanka New Town</th>\n",
       "      <th>Yelenahalli</th>\n",
       "      <th>Yeshwanthpur</th>\n",
       "    </tr>\n",
       "  </thead>\n",
       "  <tbody>\n",
       "    <tr>\n",
       "      <th>0</th>\n",
       "      <td>1st Block Jayanagar</td>\n",
       "      <td>2850.0</td>\n",
       "      <td>4.0</td>\n",
       "      <td>428.0</td>\n",
       "      <td>4</td>\n",
       "      <td>True</td>\n",
       "      <td>False</td>\n",
       "      <td>False</td>\n",
       "      <td>False</td>\n",
       "      <td>False</td>\n",
       "      <td>...</td>\n",
       "      <td>False</td>\n",
       "      <td>False</td>\n",
       "      <td>False</td>\n",
       "      <td>False</td>\n",
       "      <td>False</td>\n",
       "      <td>False</td>\n",
       "      <td>False</td>\n",
       "      <td>False</td>\n",
       "      <td>False</td>\n",
       "      <td>False</td>\n",
       "    </tr>\n",
       "    <tr>\n",
       "      <th>1</th>\n",
       "      <td>1st Block Jayanagar</td>\n",
       "      <td>1630.0</td>\n",
       "      <td>3.0</td>\n",
       "      <td>194.0</td>\n",
       "      <td>3</td>\n",
       "      <td>True</td>\n",
       "      <td>False</td>\n",
       "      <td>False</td>\n",
       "      <td>False</td>\n",
       "      <td>False</td>\n",
       "      <td>...</td>\n",
       "      <td>False</td>\n",
       "      <td>False</td>\n",
       "      <td>False</td>\n",
       "      <td>False</td>\n",
       "      <td>False</td>\n",
       "      <td>False</td>\n",
       "      <td>False</td>\n",
       "      <td>False</td>\n",
       "      <td>False</td>\n",
       "      <td>False</td>\n",
       "    </tr>\n",
       "    <tr>\n",
       "      <th>2</th>\n",
       "      <td>1st Block Jayanagar</td>\n",
       "      <td>1875.0</td>\n",
       "      <td>2.0</td>\n",
       "      <td>235.0</td>\n",
       "      <td>3</td>\n",
       "      <td>True</td>\n",
       "      <td>False</td>\n",
       "      <td>False</td>\n",
       "      <td>False</td>\n",
       "      <td>False</td>\n",
       "      <td>...</td>\n",
       "      <td>False</td>\n",
       "      <td>False</td>\n",
       "      <td>False</td>\n",
       "      <td>False</td>\n",
       "      <td>False</td>\n",
       "      <td>False</td>\n",
       "      <td>False</td>\n",
       "      <td>False</td>\n",
       "      <td>False</td>\n",
       "      <td>False</td>\n",
       "    </tr>\n",
       "    <tr>\n",
       "      <th>3</th>\n",
       "      <td>1st Block Jayanagar</td>\n",
       "      <td>1200.0</td>\n",
       "      <td>2.0</td>\n",
       "      <td>130.0</td>\n",
       "      <td>3</td>\n",
       "      <td>True</td>\n",
       "      <td>False</td>\n",
       "      <td>False</td>\n",
       "      <td>False</td>\n",
       "      <td>False</td>\n",
       "      <td>...</td>\n",
       "      <td>False</td>\n",
       "      <td>False</td>\n",
       "      <td>False</td>\n",
       "      <td>False</td>\n",
       "      <td>False</td>\n",
       "      <td>False</td>\n",
       "      <td>False</td>\n",
       "      <td>False</td>\n",
       "      <td>False</td>\n",
       "      <td>False</td>\n",
       "    </tr>\n",
       "    <tr>\n",
       "      <th>4</th>\n",
       "      <td>1st Block Jayanagar</td>\n",
       "      <td>1235.0</td>\n",
       "      <td>2.0</td>\n",
       "      <td>148.0</td>\n",
       "      <td>2</td>\n",
       "      <td>True</td>\n",
       "      <td>False</td>\n",
       "      <td>False</td>\n",
       "      <td>False</td>\n",
       "      <td>False</td>\n",
       "      <td>...</td>\n",
       "      <td>False</td>\n",
       "      <td>False</td>\n",
       "      <td>False</td>\n",
       "      <td>False</td>\n",
       "      <td>False</td>\n",
       "      <td>False</td>\n",
       "      <td>False</td>\n",
       "      <td>False</td>\n",
       "      <td>False</td>\n",
       "      <td>False</td>\n",
       "    </tr>\n",
       "    <tr>\n",
       "      <th>...</th>\n",
       "      <td>...</td>\n",
       "      <td>...</td>\n",
       "      <td>...</td>\n",
       "      <td>...</td>\n",
       "      <td>...</td>\n",
       "      <td>...</td>\n",
       "      <td>...</td>\n",
       "      <td>...</td>\n",
       "      <td>...</td>\n",
       "      <td>...</td>\n",
       "      <td>...</td>\n",
       "      <td>...</td>\n",
       "      <td>...</td>\n",
       "      <td>...</td>\n",
       "      <td>...</td>\n",
       "      <td>...</td>\n",
       "      <td>...</td>\n",
       "      <td>...</td>\n",
       "      <td>...</td>\n",
       "      <td>...</td>\n",
       "      <td>...</td>\n",
       "    </tr>\n",
       "    <tr>\n",
       "      <th>10232</th>\n",
       "      <td>others</td>\n",
       "      <td>1200.0</td>\n",
       "      <td>2.0</td>\n",
       "      <td>70.0</td>\n",
       "      <td>2</td>\n",
       "      <td>False</td>\n",
       "      <td>False</td>\n",
       "      <td>False</td>\n",
       "      <td>False</td>\n",
       "      <td>False</td>\n",
       "      <td>...</td>\n",
       "      <td>False</td>\n",
       "      <td>False</td>\n",
       "      <td>False</td>\n",
       "      <td>False</td>\n",
       "      <td>False</td>\n",
       "      <td>False</td>\n",
       "      <td>False</td>\n",
       "      <td>False</td>\n",
       "      <td>False</td>\n",
       "      <td>False</td>\n",
       "    </tr>\n",
       "    <tr>\n",
       "      <th>10233</th>\n",
       "      <td>others</td>\n",
       "      <td>1800.0</td>\n",
       "      <td>1.0</td>\n",
       "      <td>200.0</td>\n",
       "      <td>1</td>\n",
       "      <td>False</td>\n",
       "      <td>False</td>\n",
       "      <td>False</td>\n",
       "      <td>False</td>\n",
       "      <td>False</td>\n",
       "      <td>...</td>\n",
       "      <td>False</td>\n",
       "      <td>False</td>\n",
       "      <td>False</td>\n",
       "      <td>False</td>\n",
       "      <td>False</td>\n",
       "      <td>False</td>\n",
       "      <td>False</td>\n",
       "      <td>False</td>\n",
       "      <td>False</td>\n",
       "      <td>False</td>\n",
       "    </tr>\n",
       "    <tr>\n",
       "      <th>10236</th>\n",
       "      <td>others</td>\n",
       "      <td>1353.0</td>\n",
       "      <td>2.0</td>\n",
       "      <td>110.0</td>\n",
       "      <td>2</td>\n",
       "      <td>False</td>\n",
       "      <td>False</td>\n",
       "      <td>False</td>\n",
       "      <td>False</td>\n",
       "      <td>False</td>\n",
       "      <td>...</td>\n",
       "      <td>False</td>\n",
       "      <td>False</td>\n",
       "      <td>False</td>\n",
       "      <td>False</td>\n",
       "      <td>False</td>\n",
       "      <td>False</td>\n",
       "      <td>False</td>\n",
       "      <td>False</td>\n",
       "      <td>False</td>\n",
       "      <td>False</td>\n",
       "    </tr>\n",
       "    <tr>\n",
       "      <th>10237</th>\n",
       "      <td>others</td>\n",
       "      <td>812.0</td>\n",
       "      <td>1.0</td>\n",
       "      <td>26.0</td>\n",
       "      <td>1</td>\n",
       "      <td>False</td>\n",
       "      <td>False</td>\n",
       "      <td>False</td>\n",
       "      <td>False</td>\n",
       "      <td>False</td>\n",
       "      <td>...</td>\n",
       "      <td>False</td>\n",
       "      <td>False</td>\n",
       "      <td>False</td>\n",
       "      <td>False</td>\n",
       "      <td>False</td>\n",
       "      <td>False</td>\n",
       "      <td>False</td>\n",
       "      <td>False</td>\n",
       "      <td>False</td>\n",
       "      <td>False</td>\n",
       "    </tr>\n",
       "    <tr>\n",
       "      <th>10240</th>\n",
       "      <td>others</td>\n",
       "      <td>3600.0</td>\n",
       "      <td>5.0</td>\n",
       "      <td>400.0</td>\n",
       "      <td>4</td>\n",
       "      <td>False</td>\n",
       "      <td>False</td>\n",
       "      <td>False</td>\n",
       "      <td>False</td>\n",
       "      <td>False</td>\n",
       "      <td>...</td>\n",
       "      <td>False</td>\n",
       "      <td>False</td>\n",
       "      <td>False</td>\n",
       "      <td>False</td>\n",
       "      <td>False</td>\n",
       "      <td>False</td>\n",
       "      <td>False</td>\n",
       "      <td>False</td>\n",
       "      <td>False</td>\n",
       "      <td>False</td>\n",
       "    </tr>\n",
       "  </tbody>\n",
       "</table>\n",
       "<p>7230 rows × 246 columns</p>\n",
       "</div>"
      ],
      "text/plain": [
       "                  location  total_sqft  bath  price  Bedrooms  \\\n",
       "0      1st Block Jayanagar      2850.0   4.0  428.0         4   \n",
       "1      1st Block Jayanagar      1630.0   3.0  194.0         3   \n",
       "2      1st Block Jayanagar      1875.0   2.0  235.0         3   \n",
       "3      1st Block Jayanagar      1200.0   2.0  130.0         3   \n",
       "4      1st Block Jayanagar      1235.0   2.0  148.0         2   \n",
       "...                    ...         ...   ...    ...       ...   \n",
       "10232               others      1200.0   2.0   70.0         2   \n",
       "10233               others      1800.0   1.0  200.0         1   \n",
       "10236               others      1353.0   2.0  110.0         2   \n",
       "10237               others       812.0   1.0   26.0         1   \n",
       "10240               others      3600.0   5.0  400.0         4   \n",
       "\n",
       "       1st Block Jayanagar  1st Phase JP Nagar  2nd Phase Judicial Layout  \\\n",
       "0                     True               False                      False   \n",
       "1                     True               False                      False   \n",
       "2                     True               False                      False   \n",
       "3                     True               False                      False   \n",
       "4                     True               False                      False   \n",
       "...                    ...                 ...                        ...   \n",
       "10232                False               False                      False   \n",
       "10233                False               False                      False   \n",
       "10236                False               False                      False   \n",
       "10237                False               False                      False   \n",
       "10240                False               False                      False   \n",
       "\n",
       "       2nd Stage Nagarbhavi  5th Block Hbr Layout  ...  Vijayanagar  \\\n",
       "0                     False                 False  ...        False   \n",
       "1                     False                 False  ...        False   \n",
       "2                     False                 False  ...        False   \n",
       "3                     False                 False  ...        False   \n",
       "4                     False                 False  ...        False   \n",
       "...                     ...                   ...  ...          ...   \n",
       "10232                 False                 False  ...        False   \n",
       "10233                 False                 False  ...        False   \n",
       "10236                 False                 False  ...        False   \n",
       "10237                 False                 False  ...        False   \n",
       "10240                 False                 False  ...        False   \n",
       "\n",
       "       Vishveshwarya Layout  Vishwapriya Layout  Vittasandra  Whitefield  \\\n",
       "0                     False               False        False       False   \n",
       "1                     False               False        False       False   \n",
       "2                     False               False        False       False   \n",
       "3                     False               False        False       False   \n",
       "4                     False               False        False       False   \n",
       "...                     ...                 ...          ...         ...   \n",
       "10232                 False               False        False       False   \n",
       "10233                 False               False        False       False   \n",
       "10236                 False               False        False       False   \n",
       "10237                 False               False        False       False   \n",
       "10240                 False               False        False       False   \n",
       "\n",
       "       Yelachenahalli  Yelahanka  Yelahanka New Town  Yelenahalli  \\\n",
       "0               False      False               False        False   \n",
       "1               False      False               False        False   \n",
       "2               False      False               False        False   \n",
       "3               False      False               False        False   \n",
       "4               False      False               False        False   \n",
       "...               ...        ...                 ...          ...   \n",
       "10232           False      False               False        False   \n",
       "10233           False      False               False        False   \n",
       "10236           False      False               False        False   \n",
       "10237           False      False               False        False   \n",
       "10240           False      False               False        False   \n",
       "\n",
       "       Yeshwanthpur  \n",
       "0             False  \n",
       "1             False  \n",
       "2             False  \n",
       "3             False  \n",
       "4             False  \n",
       "...             ...  \n",
       "10232         False  \n",
       "10233         False  \n",
       "10236         False  \n",
       "10237         False  \n",
       "10240         False  \n",
       "\n",
       "[7230 rows x 246 columns]"
      ]
     },
     "execution_count": 723,
     "metadata": {},
     "output_type": "execute_result"
    }
   ],
   "source": [
    "df12 = df11.drop(['others'],axis=\"columns\")\n",
    "df12"
   ]
  },
  {
   "cell_type": "markdown",
   "id": "8ef893ae-3486-49e9-8f4a-1d412d02e6da",
   "metadata": {},
   "source": [
    "now we will drop the location column because we already , added the one hot encoded features related to location"
   ]
  },
  {
   "cell_type": "code",
   "execution_count": 724,
   "id": "315189bc-dce5-41d6-9241-f485c7bd78d3",
   "metadata": {
    "ExecuteTime": {
     "end_time": "2024-02-18T20:05:40.192006700Z",
     "start_time": "2024-02-18T20:05:39.639227300Z"
    }
   },
   "outputs": [
    {
     "data": {
      "text/html": [
       "<div>\n",
       "<style scoped>\n",
       "    .dataframe tbody tr th:only-of-type {\n",
       "        vertical-align: middle;\n",
       "    }\n",
       "\n",
       "    .dataframe tbody tr th {\n",
       "        vertical-align: top;\n",
       "    }\n",
       "\n",
       "    .dataframe thead th {\n",
       "        text-align: right;\n",
       "    }\n",
       "</style>\n",
       "<table border=\"1\" class=\"dataframe\">\n",
       "  <thead>\n",
       "    <tr style=\"text-align: right;\">\n",
       "      <th></th>\n",
       "      <th>total_sqft</th>\n",
       "      <th>bath</th>\n",
       "      <th>price</th>\n",
       "      <th>Bedrooms</th>\n",
       "      <th>1st Block Jayanagar</th>\n",
       "      <th>1st Phase JP Nagar</th>\n",
       "      <th>2nd Phase Judicial Layout</th>\n",
       "      <th>2nd Stage Nagarbhavi</th>\n",
       "      <th>5th Block Hbr Layout</th>\n",
       "      <th>5th Phase JP Nagar</th>\n",
       "      <th>...</th>\n",
       "      <th>Vijayanagar</th>\n",
       "      <th>Vishveshwarya Layout</th>\n",
       "      <th>Vishwapriya Layout</th>\n",
       "      <th>Vittasandra</th>\n",
       "      <th>Whitefield</th>\n",
       "      <th>Yelachenahalli</th>\n",
       "      <th>Yelahanka</th>\n",
       "      <th>Yelahanka New Town</th>\n",
       "      <th>Yelenahalli</th>\n",
       "      <th>Yeshwanthpur</th>\n",
       "    </tr>\n",
       "  </thead>\n",
       "  <tbody>\n",
       "    <tr>\n",
       "      <th>0</th>\n",
       "      <td>2850.0</td>\n",
       "      <td>4.0</td>\n",
       "      <td>428.0</td>\n",
       "      <td>4</td>\n",
       "      <td>True</td>\n",
       "      <td>False</td>\n",
       "      <td>False</td>\n",
       "      <td>False</td>\n",
       "      <td>False</td>\n",
       "      <td>False</td>\n",
       "      <td>...</td>\n",
       "      <td>False</td>\n",
       "      <td>False</td>\n",
       "      <td>False</td>\n",
       "      <td>False</td>\n",
       "      <td>False</td>\n",
       "      <td>False</td>\n",
       "      <td>False</td>\n",
       "      <td>False</td>\n",
       "      <td>False</td>\n",
       "      <td>False</td>\n",
       "    </tr>\n",
       "    <tr>\n",
       "      <th>1</th>\n",
       "      <td>1630.0</td>\n",
       "      <td>3.0</td>\n",
       "      <td>194.0</td>\n",
       "      <td>3</td>\n",
       "      <td>True</td>\n",
       "      <td>False</td>\n",
       "      <td>False</td>\n",
       "      <td>False</td>\n",
       "      <td>False</td>\n",
       "      <td>False</td>\n",
       "      <td>...</td>\n",
       "      <td>False</td>\n",
       "      <td>False</td>\n",
       "      <td>False</td>\n",
       "      <td>False</td>\n",
       "      <td>False</td>\n",
       "      <td>False</td>\n",
       "      <td>False</td>\n",
       "      <td>False</td>\n",
       "      <td>False</td>\n",
       "      <td>False</td>\n",
       "    </tr>\n",
       "    <tr>\n",
       "      <th>2</th>\n",
       "      <td>1875.0</td>\n",
       "      <td>2.0</td>\n",
       "      <td>235.0</td>\n",
       "      <td>3</td>\n",
       "      <td>True</td>\n",
       "      <td>False</td>\n",
       "      <td>False</td>\n",
       "      <td>False</td>\n",
       "      <td>False</td>\n",
       "      <td>False</td>\n",
       "      <td>...</td>\n",
       "      <td>False</td>\n",
       "      <td>False</td>\n",
       "      <td>False</td>\n",
       "      <td>False</td>\n",
       "      <td>False</td>\n",
       "      <td>False</td>\n",
       "      <td>False</td>\n",
       "      <td>False</td>\n",
       "      <td>False</td>\n",
       "      <td>False</td>\n",
       "    </tr>\n",
       "    <tr>\n",
       "      <th>3</th>\n",
       "      <td>1200.0</td>\n",
       "      <td>2.0</td>\n",
       "      <td>130.0</td>\n",
       "      <td>3</td>\n",
       "      <td>True</td>\n",
       "      <td>False</td>\n",
       "      <td>False</td>\n",
       "      <td>False</td>\n",
       "      <td>False</td>\n",
       "      <td>False</td>\n",
       "      <td>...</td>\n",
       "      <td>False</td>\n",
       "      <td>False</td>\n",
       "      <td>False</td>\n",
       "      <td>False</td>\n",
       "      <td>False</td>\n",
       "      <td>False</td>\n",
       "      <td>False</td>\n",
       "      <td>False</td>\n",
       "      <td>False</td>\n",
       "      <td>False</td>\n",
       "    </tr>\n",
       "    <tr>\n",
       "      <th>4</th>\n",
       "      <td>1235.0</td>\n",
       "      <td>2.0</td>\n",
       "      <td>148.0</td>\n",
       "      <td>2</td>\n",
       "      <td>True</td>\n",
       "      <td>False</td>\n",
       "      <td>False</td>\n",
       "      <td>False</td>\n",
       "      <td>False</td>\n",
       "      <td>False</td>\n",
       "      <td>...</td>\n",
       "      <td>False</td>\n",
       "      <td>False</td>\n",
       "      <td>False</td>\n",
       "      <td>False</td>\n",
       "      <td>False</td>\n",
       "      <td>False</td>\n",
       "      <td>False</td>\n",
       "      <td>False</td>\n",
       "      <td>False</td>\n",
       "      <td>False</td>\n",
       "    </tr>\n",
       "    <tr>\n",
       "      <th>5</th>\n",
       "      <td>2750.0</td>\n",
       "      <td>4.0</td>\n",
       "      <td>413.0</td>\n",
       "      <td>4</td>\n",
       "      <td>True</td>\n",
       "      <td>False</td>\n",
       "      <td>False</td>\n",
       "      <td>False</td>\n",
       "      <td>False</td>\n",
       "      <td>False</td>\n",
       "      <td>...</td>\n",
       "      <td>False</td>\n",
       "      <td>False</td>\n",
       "      <td>False</td>\n",
       "      <td>False</td>\n",
       "      <td>False</td>\n",
       "      <td>False</td>\n",
       "      <td>False</td>\n",
       "      <td>False</td>\n",
       "      <td>False</td>\n",
       "      <td>False</td>\n",
       "    </tr>\n",
       "    <tr>\n",
       "      <th>6</th>\n",
       "      <td>2450.0</td>\n",
       "      <td>4.0</td>\n",
       "      <td>368.0</td>\n",
       "      <td>4</td>\n",
       "      <td>True</td>\n",
       "      <td>False</td>\n",
       "      <td>False</td>\n",
       "      <td>False</td>\n",
       "      <td>False</td>\n",
       "      <td>False</td>\n",
       "      <td>...</td>\n",
       "      <td>False</td>\n",
       "      <td>False</td>\n",
       "      <td>False</td>\n",
       "      <td>False</td>\n",
       "      <td>False</td>\n",
       "      <td>False</td>\n",
       "      <td>False</td>\n",
       "      <td>False</td>\n",
       "      <td>False</td>\n",
       "      <td>False</td>\n",
       "    </tr>\n",
       "    <tr>\n",
       "      <th>8</th>\n",
       "      <td>1875.0</td>\n",
       "      <td>3.0</td>\n",
       "      <td>167.0</td>\n",
       "      <td>3</td>\n",
       "      <td>False</td>\n",
       "      <td>True</td>\n",
       "      <td>False</td>\n",
       "      <td>False</td>\n",
       "      <td>False</td>\n",
       "      <td>False</td>\n",
       "      <td>...</td>\n",
       "      <td>False</td>\n",
       "      <td>False</td>\n",
       "      <td>False</td>\n",
       "      <td>False</td>\n",
       "      <td>False</td>\n",
       "      <td>False</td>\n",
       "      <td>False</td>\n",
       "      <td>False</td>\n",
       "      <td>False</td>\n",
       "      <td>False</td>\n",
       "    </tr>\n",
       "    <tr>\n",
       "      <th>9</th>\n",
       "      <td>1500.0</td>\n",
       "      <td>5.0</td>\n",
       "      <td>85.0</td>\n",
       "      <td>5</td>\n",
       "      <td>False</td>\n",
       "      <td>True</td>\n",
       "      <td>False</td>\n",
       "      <td>False</td>\n",
       "      <td>False</td>\n",
       "      <td>False</td>\n",
       "      <td>...</td>\n",
       "      <td>False</td>\n",
       "      <td>False</td>\n",
       "      <td>False</td>\n",
       "      <td>False</td>\n",
       "      <td>False</td>\n",
       "      <td>False</td>\n",
       "      <td>False</td>\n",
       "      <td>False</td>\n",
       "      <td>False</td>\n",
       "      <td>False</td>\n",
       "    </tr>\n",
       "    <tr>\n",
       "      <th>10</th>\n",
       "      <td>2065.0</td>\n",
       "      <td>4.0</td>\n",
       "      <td>210.0</td>\n",
       "      <td>3</td>\n",
       "      <td>False</td>\n",
       "      <td>True</td>\n",
       "      <td>False</td>\n",
       "      <td>False</td>\n",
       "      <td>False</td>\n",
       "      <td>False</td>\n",
       "      <td>...</td>\n",
       "      <td>False</td>\n",
       "      <td>False</td>\n",
       "      <td>False</td>\n",
       "      <td>False</td>\n",
       "      <td>False</td>\n",
       "      <td>False</td>\n",
       "      <td>False</td>\n",
       "      <td>False</td>\n",
       "      <td>False</td>\n",
       "      <td>False</td>\n",
       "    </tr>\n",
       "  </tbody>\n",
       "</table>\n",
       "<p>10 rows × 245 columns</p>\n",
       "</div>"
      ],
      "text/plain": [
       "    total_sqft  bath  price  Bedrooms  1st Block Jayanagar  \\\n",
       "0       2850.0   4.0  428.0         4                 True   \n",
       "1       1630.0   3.0  194.0         3                 True   \n",
       "2       1875.0   2.0  235.0         3                 True   \n",
       "3       1200.0   2.0  130.0         3                 True   \n",
       "4       1235.0   2.0  148.0         2                 True   \n",
       "5       2750.0   4.0  413.0         4                 True   \n",
       "6       2450.0   4.0  368.0         4                 True   \n",
       "8       1875.0   3.0  167.0         3                False   \n",
       "9       1500.0   5.0   85.0         5                False   \n",
       "10      2065.0   4.0  210.0         3                False   \n",
       "\n",
       "    1st Phase JP Nagar  2nd Phase Judicial Layout  2nd Stage Nagarbhavi  \\\n",
       "0                False                      False                 False   \n",
       "1                False                      False                 False   \n",
       "2                False                      False                 False   \n",
       "3                False                      False                 False   \n",
       "4                False                      False                 False   \n",
       "5                False                      False                 False   \n",
       "6                False                      False                 False   \n",
       "8                 True                      False                 False   \n",
       "9                 True                      False                 False   \n",
       "10                True                      False                 False   \n",
       "\n",
       "    5th Block Hbr Layout  5th Phase JP Nagar  ...  Vijayanagar  \\\n",
       "0                  False               False  ...        False   \n",
       "1                  False               False  ...        False   \n",
       "2                  False               False  ...        False   \n",
       "3                  False               False  ...        False   \n",
       "4                  False               False  ...        False   \n",
       "5                  False               False  ...        False   \n",
       "6                  False               False  ...        False   \n",
       "8                  False               False  ...        False   \n",
       "9                  False               False  ...        False   \n",
       "10                 False               False  ...        False   \n",
       "\n",
       "    Vishveshwarya Layout  Vishwapriya Layout  Vittasandra  Whitefield  \\\n",
       "0                  False               False        False       False   \n",
       "1                  False               False        False       False   \n",
       "2                  False               False        False       False   \n",
       "3                  False               False        False       False   \n",
       "4                  False               False        False       False   \n",
       "5                  False               False        False       False   \n",
       "6                  False               False        False       False   \n",
       "8                  False               False        False       False   \n",
       "9                  False               False        False       False   \n",
       "10                 False               False        False       False   \n",
       "\n",
       "    Yelachenahalli  Yelahanka  Yelahanka New Town  Yelenahalli  Yeshwanthpur  \n",
       "0            False      False               False        False         False  \n",
       "1            False      False               False        False         False  \n",
       "2            False      False               False        False         False  \n",
       "3            False      False               False        False         False  \n",
       "4            False      False               False        False         False  \n",
       "5            False      False               False        False         False  \n",
       "6            False      False               False        False         False  \n",
       "8            False      False               False        False         False  \n",
       "9            False      False               False        False         False  \n",
       "10           False      False               False        False         False  \n",
       "\n",
       "[10 rows x 245 columns]"
      ]
     },
     "execution_count": 724,
     "metadata": {},
     "output_type": "execute_result"
    }
   ],
   "source": [
    "df13 = df12.drop(['location'],axis = \"columns\")\n",
    "df13.head(10)"
   ]
  },
  {
   "cell_type": "markdown",
   "id": "637c2d31",
   "metadata": {},
   "source": [
    "### Now let's convert the Lakh to US dollar using the formula 1 lakh = 1111.11 €"
   ]
  },
  {
   "cell_type": "code",
   "execution_count": 725,
   "id": "6686b103-4bd4-4239-8aba-e0663d5ae773",
   "metadata": {
    "ExecuteTime": {
     "end_time": "2024-02-18T20:05:40.211008600Z",
     "start_time": "2024-02-18T20:05:39.700364600Z"
    }
   },
   "outputs": [
    {
     "data": {
      "text/html": [
       "<div>\n",
       "<style scoped>\n",
       "    .dataframe tbody tr th:only-of-type {\n",
       "        vertical-align: middle;\n",
       "    }\n",
       "\n",
       "    .dataframe tbody tr th {\n",
       "        vertical-align: top;\n",
       "    }\n",
       "\n",
       "    .dataframe thead th {\n",
       "        text-align: right;\n",
       "    }\n",
       "</style>\n",
       "<table border=\"1\" class=\"dataframe\">\n",
       "  <thead>\n",
       "    <tr style=\"text-align: right;\">\n",
       "      <th></th>\n",
       "      <th>total_sqft</th>\n",
       "      <th>bath</th>\n",
       "      <th>price</th>\n",
       "      <th>Bedrooms</th>\n",
       "      <th>1st Block Jayanagar</th>\n",
       "      <th>1st Phase JP Nagar</th>\n",
       "      <th>2nd Phase Judicial Layout</th>\n",
       "      <th>2nd Stage Nagarbhavi</th>\n",
       "      <th>5th Block Hbr Layout</th>\n",
       "      <th>5th Phase JP Nagar</th>\n",
       "      <th>...</th>\n",
       "      <th>Vijayanagar</th>\n",
       "      <th>Vishveshwarya Layout</th>\n",
       "      <th>Vishwapriya Layout</th>\n",
       "      <th>Vittasandra</th>\n",
       "      <th>Whitefield</th>\n",
       "      <th>Yelachenahalli</th>\n",
       "      <th>Yelahanka</th>\n",
       "      <th>Yelahanka New Town</th>\n",
       "      <th>Yelenahalli</th>\n",
       "      <th>Yeshwanthpur</th>\n",
       "    </tr>\n",
       "  </thead>\n",
       "  <tbody>\n",
       "    <tr>\n",
       "      <th>0</th>\n",
       "      <td>2850.0</td>\n",
       "      <td>4.0</td>\n",
       "      <td>475555.08</td>\n",
       "      <td>4</td>\n",
       "      <td>True</td>\n",
       "      <td>False</td>\n",
       "      <td>False</td>\n",
       "      <td>False</td>\n",
       "      <td>False</td>\n",
       "      <td>False</td>\n",
       "      <td>...</td>\n",
       "      <td>False</td>\n",
       "      <td>False</td>\n",
       "      <td>False</td>\n",
       "      <td>False</td>\n",
       "      <td>False</td>\n",
       "      <td>False</td>\n",
       "      <td>False</td>\n",
       "      <td>False</td>\n",
       "      <td>False</td>\n",
       "      <td>False</td>\n",
       "    </tr>\n",
       "    <tr>\n",
       "      <th>1</th>\n",
       "      <td>1630.0</td>\n",
       "      <td>3.0</td>\n",
       "      <td>215555.34</td>\n",
       "      <td>3</td>\n",
       "      <td>True</td>\n",
       "      <td>False</td>\n",
       "      <td>False</td>\n",
       "      <td>False</td>\n",
       "      <td>False</td>\n",
       "      <td>False</td>\n",
       "      <td>...</td>\n",
       "      <td>False</td>\n",
       "      <td>False</td>\n",
       "      <td>False</td>\n",
       "      <td>False</td>\n",
       "      <td>False</td>\n",
       "      <td>False</td>\n",
       "      <td>False</td>\n",
       "      <td>False</td>\n",
       "      <td>False</td>\n",
       "      <td>False</td>\n",
       "    </tr>\n",
       "    <tr>\n",
       "      <th>2</th>\n",
       "      <td>1875.0</td>\n",
       "      <td>2.0</td>\n",
       "      <td>261110.85</td>\n",
       "      <td>3</td>\n",
       "      <td>True</td>\n",
       "      <td>False</td>\n",
       "      <td>False</td>\n",
       "      <td>False</td>\n",
       "      <td>False</td>\n",
       "      <td>False</td>\n",
       "      <td>...</td>\n",
       "      <td>False</td>\n",
       "      <td>False</td>\n",
       "      <td>False</td>\n",
       "      <td>False</td>\n",
       "      <td>False</td>\n",
       "      <td>False</td>\n",
       "      <td>False</td>\n",
       "      <td>False</td>\n",
       "      <td>False</td>\n",
       "      <td>False</td>\n",
       "    </tr>\n",
       "    <tr>\n",
       "      <th>3</th>\n",
       "      <td>1200.0</td>\n",
       "      <td>2.0</td>\n",
       "      <td>144444.30</td>\n",
       "      <td>3</td>\n",
       "      <td>True</td>\n",
       "      <td>False</td>\n",
       "      <td>False</td>\n",
       "      <td>False</td>\n",
       "      <td>False</td>\n",
       "      <td>False</td>\n",
       "      <td>...</td>\n",
       "      <td>False</td>\n",
       "      <td>False</td>\n",
       "      <td>False</td>\n",
       "      <td>False</td>\n",
       "      <td>False</td>\n",
       "      <td>False</td>\n",
       "      <td>False</td>\n",
       "      <td>False</td>\n",
       "      <td>False</td>\n",
       "      <td>False</td>\n",
       "    </tr>\n",
       "    <tr>\n",
       "      <th>4</th>\n",
       "      <td>1235.0</td>\n",
       "      <td>2.0</td>\n",
       "      <td>164444.28</td>\n",
       "      <td>2</td>\n",
       "      <td>True</td>\n",
       "      <td>False</td>\n",
       "      <td>False</td>\n",
       "      <td>False</td>\n",
       "      <td>False</td>\n",
       "      <td>False</td>\n",
       "      <td>...</td>\n",
       "      <td>False</td>\n",
       "      <td>False</td>\n",
       "      <td>False</td>\n",
       "      <td>False</td>\n",
       "      <td>False</td>\n",
       "      <td>False</td>\n",
       "      <td>False</td>\n",
       "      <td>False</td>\n",
       "      <td>False</td>\n",
       "      <td>False</td>\n",
       "    </tr>\n",
       "  </tbody>\n",
       "</table>\n",
       "<p>5 rows × 245 columns</p>\n",
       "</div>"
      ],
      "text/plain": [
       "   total_sqft  bath      price  Bedrooms  1st Block Jayanagar  \\\n",
       "0      2850.0   4.0  475555.08         4                 True   \n",
       "1      1630.0   3.0  215555.34         3                 True   \n",
       "2      1875.0   2.0  261110.85         3                 True   \n",
       "3      1200.0   2.0  144444.30         3                 True   \n",
       "4      1235.0   2.0  164444.28         2                 True   \n",
       "\n",
       "   1st Phase JP Nagar  2nd Phase Judicial Layout  2nd Stage Nagarbhavi  \\\n",
       "0               False                      False                 False   \n",
       "1               False                      False                 False   \n",
       "2               False                      False                 False   \n",
       "3               False                      False                 False   \n",
       "4               False                      False                 False   \n",
       "\n",
       "   5th Block Hbr Layout  5th Phase JP Nagar  ...  Vijayanagar  \\\n",
       "0                 False               False  ...        False   \n",
       "1                 False               False  ...        False   \n",
       "2                 False               False  ...        False   \n",
       "3                 False               False  ...        False   \n",
       "4                 False               False  ...        False   \n",
       "\n",
       "   Vishveshwarya Layout  Vishwapriya Layout  Vittasandra  Whitefield  \\\n",
       "0                 False               False        False       False   \n",
       "1                 False               False        False       False   \n",
       "2                 False               False        False       False   \n",
       "3                 False               False        False       False   \n",
       "4                 False               False        False       False   \n",
       "\n",
       "   Yelachenahalli  Yelahanka  Yelahanka New Town  Yelenahalli  Yeshwanthpur  \n",
       "0           False      False               False        False         False  \n",
       "1           False      False               False        False         False  \n",
       "2           False      False               False        False         False  \n",
       "3           False      False               False        False         False  \n",
       "4           False      False               False        False         False  \n",
       "\n",
       "[5 rows x 245 columns]"
      ]
     },
     "execution_count": 725,
     "metadata": {},
     "output_type": "execute_result"
    }
   ],
   "source": [
    "df14 = df13\n",
    "df14['price'] = df14['price']*1111.11\n",
    "df14.head()"
   ]
  },
  {
   "cell_type": "markdown",
   "id": "5273c23a-5b5a-401e-9055-1475ef6f459a",
   "metadata": {},
   "source": [
    "now we will start by model training, first we need to split the input X, and the target output Y"
   ]
  },
  {
   "cell_type": "code",
   "execution_count": 726,
   "id": "70b01398-3da8-4a53-a64f-dbc44bfb8e22",
   "metadata": {
    "ExecuteTime": {
     "end_time": "2024-02-18T20:05:40.555350300Z",
     "start_time": "2024-02-18T20:05:39.722096700Z"
    }
   },
   "outputs": [],
   "source": [
    "X = df14.drop(['price'],axis = 'columns')\n",
    "X.head(3)\n",
    "\n",
    "y = df14['price']"
   ]
  },
  {
   "cell_type": "markdown",
   "id": "cb8eb384-b41e-49ae-836a-95580460e536",
   "metadata": {},
   "source": [
    "now we are going to divide our data into training set and test set, first one to train the model and second one to evaluate the result\n",
    "we will use scikit learn "
   ]
  },
  {
   "cell_type": "code",
   "execution_count": 727,
   "id": "b5cdd701-0b6a-4559-81dc-11ea1d556d30",
   "metadata": {
    "ExecuteTime": {
     "end_time": "2024-02-18T20:05:46.880717600Z",
     "start_time": "2024-02-18T20:05:39.789379100Z"
    }
   },
   "outputs": [],
   "source": [
    "from sklearn.model_selection import train_test_split\n",
    "x_train,x_test,y_train,y_test = train_test_split(X,y,test_size = 0.2, random_state = 10)\n"
   ]
  },
  {
   "cell_type": "markdown",
   "id": "9f585384-07fc-4bfe-a029-3339cfd175af",
   "metadata": {},
   "source": [
    "lets import a linear regression model"
   ]
  },
  {
   "cell_type": "code",
   "execution_count": 728,
   "id": "0743debd-d203-470f-ad7c-b26dbc38a2e4",
   "metadata": {
    "ExecuteTime": {
     "end_time": "2024-02-18T20:05:47.500398400Z",
     "start_time": "2024-02-18T20:05:46.883718Z"
    }
   },
   "outputs": [
    {
     "data": {
      "text/plain": [
       "0.8384506490283239"
      ]
     },
     "execution_count": 728,
     "metadata": {},
     "output_type": "execute_result"
    }
   ],
   "source": [
    "from sklearn.linear_model import LinearRegression\n",
    "model = LinearRegression()\n",
    "model.fit(x_train,y_train)\n",
    "model.score(x_test,y_test)\n"
   ]
  },
  {
   "cell_type": "markdown",
   "id": "0f289e2f-a177-44e1-a37d-6209b0816e35",
   "metadata": {},
   "source": [
    "now let's try to use train-crossvalidation-test splitting , which is better"
   ]
  },
  {
   "cell_type": "code",
   "execution_count": 729,
   "id": "a2209bcb-0fec-48be-b54b-cccbb2169497",
   "metadata": {
    "ExecuteTime": {
     "end_time": "2024-02-18T20:05:48.431925900Z",
     "start_time": "2024-02-18T20:05:47.499401Z"
    }
   },
   "outputs": [
    {
     "data": {
      "text/plain": [
       "array([0.83335955, 0.83847859, 0.84852222, 0.86294728, 0.84138034])"
      ]
     },
     "execution_count": 729,
     "metadata": {},
     "output_type": "execute_result"
    }
   ],
   "source": [
    "from sklearn.model_selection import ShuffleSplit\n",
    "from sklearn.model_selection import cross_val_score\n",
    "\n",
    "cv = ShuffleSplit(n_splits = 5, test_size = 0.2, random_state = 0)\n",
    "\n",
    "cross_val_score(LinearRegression(),X,y,cv = cv)"
   ]
  },
  {
   "cell_type": "markdown",
   "id": "5d753350-3e8d-4f9d-82f3-6f58ad85fc54",
   "metadata": {},
   "source": [
    "now let's try other model such as Lasso(special type of linear regression), decision tree that might give higher score"
   ]
  },
  {
   "cell_type": "code",
   "execution_count": 730,
   "id": "d237315c-96b7-4c74-98f6-27faf9ecdbc7",
   "metadata": {
    "ExecuteTime": {
     "end_time": "2024-02-18T20:05:48.851554600Z",
     "start_time": "2024-02-18T20:05:48.431925900Z"
    }
   },
   "outputs": [],
   "source": [
    "from sklearn.model_selection import GridSearchCV\n",
    "from sklearn.linear_model import Lasso\n",
    "from sklearn.tree import DecisionTreeRegressor"
   ]
  },
  {
   "cell_type": "markdown",
   "id": "5e8a1ed0-0efd-4e04-8d43-f1dbfdf9ded4",
   "metadata": {},
   "source": [
    "lets create a function that try different models(Lasso,linear regression, decision trees) \n",
    "and return the best one "
   ]
  },
  {
   "cell_type": "code",
   "execution_count": 731,
   "id": "87c6d657-02f9-45f8-99a3-8c2609b467f2",
   "metadata": {
    "ExecuteTime": {
     "end_time": "2024-02-18T20:05:48.881019400Z",
     "start_time": "2024-02-18T20:05:48.852554500Z"
    }
   },
   "outputs": [],
   "source": [
    "def find_best_model_using_gridsearch(X, y):\n",
    "    algos = {\n",
    "        'linear_regression': {\n",
    "            'model': LinearRegression(),\n",
    "            'params': {\n",
    "                'fit_intercept': [True, False]\n",
    "            }\n",
    "        },\n",
    "        'Lasso': {\n",
    "            'model': Lasso(),\n",
    "            'params': {\n",
    "                'alpha': [1, 2],\n",
    "                'selection': ['random', 'cyclic']\n",
    "            }\n",
    "        },\n",
    "        'decision_tree': {\n",
    "            'model' : DecisionTreeRegressor(),\n",
    "            'params' : {\n",
    "                'criterion' : ['squared_error','friedman_mse'],\n",
    "                'splitter' : ['best','random']\n",
    "            }\n",
    "        }\n",
    "    }\n",
    "    scores = []\n",
    "    for algo_name, config in algos.items():\n",
    "        gs = GridSearchCV(config['model'], config['params'], cv=5, return_train_score=False)\n",
    "        gs.fit(X, y)\n",
    "        scores.append({\n",
    "            'model': algo_name,\n",
    "            'best_score': gs.best_score_,\n",
    "            'best_params': gs.best_params_\n",
    "        })\n",
    "    \n",
    "    return pd.DataFrame(scores, columns=['model', 'best_score', 'best_params'])"
   ]
  },
  {
   "cell_type": "code",
   "execution_count": 732,
   "id": "40727f4d-992c-46e5-ba98-f4b3f3d3566c",
   "metadata": {
    "ExecuteTime": {
     "end_time": "2024-02-18T20:05:57.111527700Z",
     "start_time": "2024-02-18T20:05:48.865947Z"
    }
   },
   "outputs": [
    {
     "data": {
      "text/html": [
       "<div>\n",
       "<style scoped>\n",
       "    .dataframe tbody tr th:only-of-type {\n",
       "        vertical-align: middle;\n",
       "    }\n",
       "\n",
       "    .dataframe tbody tr th {\n",
       "        vertical-align: top;\n",
       "    }\n",
       "\n",
       "    .dataframe thead th {\n",
       "        text-align: right;\n",
       "    }\n",
       "</style>\n",
       "<table border=\"1\" class=\"dataframe\">\n",
       "  <thead>\n",
       "    <tr style=\"text-align: right;\">\n",
       "      <th></th>\n",
       "      <th>model</th>\n",
       "      <th>best_score</th>\n",
       "      <th>best_params</th>\n",
       "    </tr>\n",
       "  </thead>\n",
       "  <tbody>\n",
       "    <tr>\n",
       "      <th>0</th>\n",
       "      <td>linear_regression</td>\n",
       "      <td>-4.800839e+14</td>\n",
       "      <td>{'fit_intercept': False}</td>\n",
       "    </tr>\n",
       "    <tr>\n",
       "      <th>1</th>\n",
       "      <td>Lasso</td>\n",
       "      <td>5.801505e-01</td>\n",
       "      <td>{'alpha': 2, 'selection': 'random'}</td>\n",
       "    </tr>\n",
       "    <tr>\n",
       "      <th>2</th>\n",
       "      <td>decision_tree</td>\n",
       "      <td>5.571013e-01</td>\n",
       "      <td>{'criterion': 'friedman_mse', 'splitter': 'ran...</td>\n",
       "    </tr>\n",
       "  </tbody>\n",
       "</table>\n",
       "</div>"
      ],
      "text/plain": [
       "               model    best_score  \\\n",
       "0  linear_regression -4.800839e+14   \n",
       "1              Lasso  5.801505e-01   \n",
       "2      decision_tree  5.571013e-01   \n",
       "\n",
       "                                         best_params  \n",
       "0                           {'fit_intercept': False}  \n",
       "1                {'alpha': 2, 'selection': 'random'}  \n",
       "2  {'criterion': 'friedman_mse', 'splitter': 'ran...  "
      ]
     },
     "execution_count": 732,
     "metadata": {},
     "output_type": "execute_result"
    }
   ],
   "source": [
    " find_best_model_using_gridsearch(X, y)"
   ]
  },
  {
   "cell_type": "code",
   "execution_count": 733,
   "id": "6c342669-09e9-460f-90d5-823450f807e7",
   "metadata": {
    "ExecuteTime": {
     "end_time": "2024-02-18T20:05:57.262199Z",
     "start_time": "2024-02-18T20:05:57.119049600Z"
    }
   },
   "outputs": [],
   "source": [
    "def predict_price(location,sqft,bath,bedrooms):\n",
    "    loc_index = np.where(X.columns == location)[0][0]\n",
    "    x = np.zeros(len(X.columns))\n",
    "    \n",
    "    x[0] = sqft\n",
    "    x[1] = bath\n",
    "    x[2] = bedrooms\n",
    "    if loc_index >= 0:\n",
    "        x[loc_index] = 1\n",
    "        \n",
    "    return model.predict([x])[0]\n",
    "    \n",
    "            "
   ]
  },
  {
   "cell_type": "code",
   "execution_count": 734,
   "id": "6c125531-cd55-4313-b8d2-f39becf6868b",
   "metadata": {
    "ExecuteTime": {
     "end_time": "2024-02-18T20:05:57.333660700Z",
     "start_time": "2024-02-18T20:05:57.137649700Z"
    }
   },
   "outputs": [
    {
     "name": "stderr",
     "output_type": "stream",
     "text": [
      "c:\\Users\\dell\\AppData\\Local\\Programs\\Python\\Python312\\Lib\\site-packages\\sklearn\\base.py:493: UserWarning: X does not have valid feature names, but LinearRegression was fitted with feature names\n",
      "  warnings.warn(\n"
     ]
    },
    {
     "data": {
      "text/plain": [
       "94087.93248816516"
      ]
     },
     "execution_count": 734,
     "metadata": {},
     "output_type": "execute_result"
    }
   ],
   "source": [
    "predict_price('1st Phase JP Nagar',1000,2,2)"
   ]
  },
  {
   "cell_type": "code",
   "execution_count": 735,
   "id": "43a05ad7-d264-4387-82fc-983dd7ae873e",
   "metadata": {
    "ExecuteTime": {
     "end_time": "2024-02-18T20:05:57.358722900Z",
     "start_time": "2024-02-18T20:05:57.164306300Z"
    }
   },
   "outputs": [
    {
     "name": "stderr",
     "output_type": "stream",
     "text": [
      "c:\\Users\\dell\\AppData\\Local\\Programs\\Python\\Python312\\Lib\\site-packages\\sklearn\\base.py:493: UserWarning: X does not have valid feature names, but LinearRegression was fitted with feature names\n",
      "  warnings.warn(\n"
     ]
    },
    {
     "data": {
      "text/plain": [
       "95548.82456215446"
      ]
     },
     "execution_count": 735,
     "metadata": {},
     "output_type": "execute_result"
    }
   ],
   "source": [
    "predict_price('1st Phase JP Nagar',1000,3,3)"
   ]
  },
  {
   "cell_type": "code",
   "execution_count": 736,
   "id": "d3c7de96-bc11-431a-857a-7934dca62a69",
   "metadata": {
    "ExecuteTime": {
     "end_time": "2024-02-18T20:05:57.412595100Z",
     "start_time": "2024-02-18T20:05:57.184162800Z"
    }
   },
   "outputs": [
    {
     "name": "stderr",
     "output_type": "stream",
     "text": [
      "c:\\Users\\dell\\AppData\\Local\\Programs\\Python\\Python312\\Lib\\site-packages\\sklearn\\base.py:493: UserWarning: X does not have valid feature names, but LinearRegression was fitted with feature names\n",
      "  warnings.warn(\n"
     ]
    },
    {
     "data": {
      "text/plain": [
       "187727.22325564735"
      ]
     },
     "execution_count": 736,
     "metadata": {},
     "output_type": "execute_result"
    }
   ],
   "source": [
    "predict_price('Indira Nagar',1000,3,3)"
   ]
  },
  {
   "cell_type": "markdown",
   "id": "95aaaf3b-8807-496b-b8ca-e733f733fe9d",
   "metadata": {},
   "source": [
    "now we need to export the model as a pickle file\n",
    "the executed file will be very small, since it store the parameter\n",
    "it doesn't contain the actual data\n",
    "\n"
   ]
  },
  {
   "cell_type": "code",
   "execution_count": 737,
   "id": "87cc135f-29e7-45ff-ab99-16bd2a4a8c13",
   "metadata": {
    "ExecuteTime": {
     "end_time": "2024-02-18T20:05:57.693306600Z",
     "start_time": "2024-02-18T20:05:57.219628700Z"
    }
   },
   "outputs": [],
   "source": [
    "import pickle\n",
    "with open('banglore_home_prices_model.pickle','wb') as f:\n",
    "    pickle.dump(model,f)"
   ]
  },
  {
   "cell_type": "markdown",
   "id": "add9b74d-e721-4137-8b4f-f3e29ef28147",
   "metadata": {},
   "source": [
    "also we need to export the column\n"
   ]
  },
  {
   "cell_type": "code",
   "execution_count": 738,
   "id": "f8eb1286-5c03-4aac-b707-8018a21cff1f",
   "metadata": {
    "ExecuteTime": {
     "end_time": "2024-02-18T20:05:57.803540500Z",
     "start_time": "2024-02-18T20:05:57.249203600Z"
    }
   },
   "outputs": [],
   "source": [
    "import json\n",
    "columns = {\n",
    "    'data_columns' : [col.lower() for col in X.columns]\n",
    "}\n",
    "with open(\"columns.json\",\"w\") as f:\n",
    "    f.write(json.dumps(columns))"
   ]
  }
 ],
 "metadata": {
  "kernelspec": {
   "display_name": "Python 3 (ipykernel)",
   "language": "python",
   "name": "python3"
  },
  "language_info": {
   "codemirror_mode": {
    "name": "ipython",
    "version": 3
   },
   "file_extension": ".py",
   "mimetype": "text/x-python",
   "name": "python",
   "nbconvert_exporter": "python",
   "pygments_lexer": "ipython3",
   "version": "3.12.0"
  }
 },
 "nbformat": 4,
 "nbformat_minor": 5
}
